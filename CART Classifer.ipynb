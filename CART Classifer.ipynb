{
 "cells": [
  {
   "cell_type": "markdown",
   "id": "0fa7671b",
   "metadata": {},
   "source": [
    "# CART Model "
   ]
  },
  {
   "cell_type": "markdown",
   "id": "7bbcdb7c",
   "metadata": {},
   "source": [
    "This notebook file consists of a decision tree model built to predict the survival on the Titanic ship. "
   ]
  },
  {
   "cell_type": "markdown",
   "id": "e25b865c",
   "metadata": {},
   "source": [
    "#### Necessary Libraries "
   ]
  },
  {
   "cell_type": "code",
   "execution_count": 2,
   "id": "16474699",
   "metadata": {},
   "outputs": [],
   "source": [
    "import pandas as pd\n",
    "import matplotlib.pyplot as plt\n",
    "import numpy as np"
   ]
  },
  {
   "cell_type": "markdown",
   "id": "5480e7ce",
   "metadata": {},
   "source": [
    "### Loading The Refined Dataset"
   ]
  },
  {
   "cell_type": "code",
   "execution_count": 4,
   "id": "f4363934",
   "metadata": {},
   "outputs": [],
   "source": [
    "df = pd.read_csv(\"ReadyToTrain.csv\")"
   ]
  },
  {
   "cell_type": "markdown",
   "id": "c58e9db1",
   "metadata": {},
   "source": [
    "#### Viewing the Dataset sample"
   ]
  },
  {
   "cell_type": "code",
   "execution_count": 12,
   "id": "629bc010",
   "metadata": {},
   "outputs": [
    {
     "data": {
      "text/html": [
       "<div>\n",
       "<style scoped>\n",
       "    .dataframe tbody tr th:only-of-type {\n",
       "        vertical-align: middle;\n",
       "    }\n",
       "\n",
       "    .dataframe tbody tr th {\n",
       "        vertical-align: top;\n",
       "    }\n",
       "\n",
       "    .dataframe thead th {\n",
       "        text-align: right;\n",
       "    }\n",
       "</style>\n",
       "<table border=\"1\" class=\"dataframe\">\n",
       "  <thead>\n",
       "    <tr style=\"text-align: right;\">\n",
       "      <th></th>\n",
       "      <th>Unnamed: 0</th>\n",
       "      <th>Age</th>\n",
       "      <th>Sex</th>\n",
       "      <th>Pclass</th>\n",
       "      <th>Fare</th>\n",
       "      <th>SibSp</th>\n",
       "      <th>Parch</th>\n",
       "      <th>Embarked</th>\n",
       "      <th>Survived</th>\n",
       "    </tr>\n",
       "  </thead>\n",
       "  <tbody>\n",
       "    <tr>\n",
       "      <th>0</th>\n",
       "      <td>0</td>\n",
       "      <td>22.0</td>\n",
       "      <td>0</td>\n",
       "      <td>3</td>\n",
       "      <td>7.2500</td>\n",
       "      <td>1</td>\n",
       "      <td>0</td>\n",
       "      <td>0</td>\n",
       "      <td>0</td>\n",
       "    </tr>\n",
       "    <tr>\n",
       "      <th>1</th>\n",
       "      <td>1</td>\n",
       "      <td>38.0</td>\n",
       "      <td>1</td>\n",
       "      <td>1</td>\n",
       "      <td>71.2833</td>\n",
       "      <td>1</td>\n",
       "      <td>0</td>\n",
       "      <td>1</td>\n",
       "      <td>1</td>\n",
       "    </tr>\n",
       "    <tr>\n",
       "      <th>2</th>\n",
       "      <td>2</td>\n",
       "      <td>26.0</td>\n",
       "      <td>1</td>\n",
       "      <td>3</td>\n",
       "      <td>7.9250</td>\n",
       "      <td>0</td>\n",
       "      <td>0</td>\n",
       "      <td>0</td>\n",
       "      <td>1</td>\n",
       "    </tr>\n",
       "    <tr>\n",
       "      <th>3</th>\n",
       "      <td>3</td>\n",
       "      <td>35.0</td>\n",
       "      <td>1</td>\n",
       "      <td>1</td>\n",
       "      <td>53.1000</td>\n",
       "      <td>1</td>\n",
       "      <td>0</td>\n",
       "      <td>0</td>\n",
       "      <td>1</td>\n",
       "    </tr>\n",
       "    <tr>\n",
       "      <th>4</th>\n",
       "      <td>4</td>\n",
       "      <td>35.0</td>\n",
       "      <td>0</td>\n",
       "      <td>3</td>\n",
       "      <td>8.0500</td>\n",
       "      <td>0</td>\n",
       "      <td>0</td>\n",
       "      <td>0</td>\n",
       "      <td>0</td>\n",
       "    </tr>\n",
       "  </tbody>\n",
       "</table>\n",
       "</div>"
      ],
      "text/plain": [
       "   Unnamed: 0   Age  Sex  Pclass     Fare  SibSp  Parch  Embarked  Survived\n",
       "0           0  22.0    0       3   7.2500      1      0         0         0\n",
       "1           1  38.0    1       1  71.2833      1      0         1         1\n",
       "2           2  26.0    1       3   7.9250      0      0         0         1\n",
       "3           3  35.0    1       1  53.1000      1      0         0         1\n",
       "4           4  35.0    0       3   8.0500      0      0         0         0"
      ]
     },
     "execution_count": 12,
     "metadata": {},
     "output_type": "execute_result"
    }
   ],
   "source": [
    "df.head()"
   ]
  },
  {
   "cell_type": "markdown",
   "id": "731796e8",
   "metadata": {},
   "source": [
    "#### Spliting The Dataset"
   ]
  },
  {
   "cell_type": "code",
   "execution_count": 18,
   "id": "3a5b1026",
   "metadata": {},
   "outputs": [],
   "source": [
    "X = df.iloc[ : , 1:8]\n",
    "Y = df.iloc[ : , 8:]"
   ]
  },
  {
   "cell_type": "markdown",
   "id": "96e28c11",
   "metadata": {},
   "source": [
    "#### Feature Scaling Of The Dataset"
   ]
  },
  {
   "cell_type": "code",
   "execution_count": 25,
   "id": "d8a6c405",
   "metadata": {},
   "outputs": [
    {
     "data": {
      "text/plain": [
       "array([[-2.2361547 , -2.28188924, -1.77269184, ..., -0.08185509,\n",
       "        -1.06164631, -1.46419714],\n",
       "       [-2.14514077,  2.09988449, -4.63707508, ..., -0.08185509,\n",
       "        -1.06164631,  1.01333632],\n",
       "       [-2.21340122,  2.09988449, -1.77269184, ..., -0.90511835,\n",
       "        -1.06164631, -1.46419714],\n",
       "       ...,\n",
       "       [-2.22477796,  2.09988449, -1.77269184, ..., -0.08185509,\n",
       "         2.02002239, -1.46419714],\n",
       "       [-2.21340122, -2.28188924, -4.63707508, ..., -0.90511835,\n",
       "        -1.06164631,  1.01333632],\n",
       "       [-2.17927099, -2.28188924, -1.77269184, ..., -0.90511835,\n",
       "        -1.06164631,  3.49086977]])"
      ]
     },
     "execution_count": 25,
     "metadata": {},
     "output_type": "execute_result"
    }
   ],
   "source": [
    "from sklearn.preprocessing import StandardScaler\n",
    "sc = StandardScaler()\n",
    "X = sc.fit_transform(X)\n",
    "X =  sc.transform(X)\n",
    "X"
   ]
  },
  {
   "cell_type": "code",
   "execution_count": 26,
   "id": "2ff32750",
   "metadata": {},
   "outputs": [],
   "source": [
    "from sklearn.model_selection import train_test_split\n",
    "X_train, X_test, y_train, y_test = train_test_split(X,Y,test_size = 0.2, random_state=1)"
   ]
  },
  {
   "cell_type": "markdown",
   "id": "af2c40e3",
   "metadata": {},
   "source": [
    "### Building The Classification Model"
   ]
  },
  {
   "cell_type": "code",
   "execution_count": 33,
   "id": "7c3d5eaa",
   "metadata": {},
   "outputs": [
    {
     "name": "stdout",
     "output_type": "stream",
     "text": [
      "For max depth =  1  :  0.776536312849162\n",
      "For max depth =  2  :  0.7206703910614525\n",
      "For max depth =  3  :  0.8044692737430168\n",
      "For max depth =  4  :  0.7821229050279329\n",
      "For max depth =  5  :  0.7932960893854749\n",
      "For max depth =  6  :  0.776536312849162\n",
      "For max depth =  7  :  0.7486033519553073\n"
     ]
    }
   ],
   "source": [
    "from sklearn.tree import DecisionTreeClassifier\n",
    "from sklearn.metrics import accuracy_score\n",
    "\n",
    "depth = [];\n",
    "\n",
    "for i in range(1,8):\n",
    "    clf_tree = DecisionTreeClassifier(criterion=\"gini\", random_state = 100, max_depth = i)\n",
    "    clf_tree.fit(X_train,y_train)\n",
    "    ypred = clf_tree.predict(X_test)\n",
    "    depth.append(accuracy_score(y_test,ypred))\n",
    "    print(\"For max depth = \",i, \" : \",accuracy_score(y_test,ypred))"
   ]
  },
  {
   "cell_type": "code",
   "execution_count": null,
   "id": "bf89e2dd",
   "metadata": {},
   "outputs": [],
   "source": []
  },
  {
   "cell_type": "code",
   "execution_count": 39,
   "id": "68e6e1f4",
   "metadata": {},
   "outputs": [
    {
     "data": {
      "image/png": "[encoded data removed]",
      "text/plain": [
       "<Figure size 576x432 with 1 Axes>"
      ]
     },
     "metadata": {
      "needs_background": "light"
     },
     "output_type": "display_data"
    }
   ],
   "source": [
    "plt.figure(figsize=(8,6))\n",
    "plt.plot(range(1,8),depth,color=\"purple\", marker = \"o\")\n",
    "plt.xlabel(\"Depth\")\n",
    "plt.ylabel(\"Accuracy Score\")\n",
    "plt.title(\"Visualization of the level with highest accuracy\")\n",
    "plt.xticks(range(1,8))\n",
    "plt.show()"
   ]
  },
  {
   "cell_type": "markdown",
   "id": "a5870442",
   "metadata": {},
   "source": [
    "The decision tree has the highest accuracy when depth is 3. Now lets use this depth to built our classifier tree."
   ]
  },
  {
   "cell_type": "code",
   "execution_count": 43,
   "id": "04357a78",
   "metadata": {},
   "outputs": [
    {
     "name": "stdout",
     "output_type": "stream",
     "text": [
      "[1 0 1 1 1 0 0 1 0 1 0 1 0 0 1 0 0 0 0 1 0 0 1 0 1 0 1 1 0 1 1 0 0 1 0 0 0\n",
      " 0 0 0 1 1 1 0 1 0 0 0 0 0 0 1 0 0 0 1 0 0 0 1 0 0 0 0 0 1 0 0 1 0 0 0 0 0\n",
      " 1 0 1 0 0 1 0 0 0 0 1 0 0 0 0 1 0 0 0 1 0 0 0 1 0 0 0 0 0 1 1 0 0 0 0 0 0\n",
      " 0 0 0 0 0 0 0 1 1 1 0 0 0 1 1 1 1 0 0 0 0 1 0 1 1 1 0 0 1 1 0 1 1 0 1 0 0\n",
      " 0 0 1 0 0 1 0 0 0 0 1 0 0 0 1 0 0 1 1 0 0 0 1 0 1 0 1 0 0 0 1]\n"
     ]
    }
   ],
   "source": [
    "clf_tr = DecisionTreeClassifier(criterion=\"gini\", random_state = 100, max_depth = 3)\n",
    "clf_tr.fit(X,Y)\n",
    "pred_tree = clf_tr.predict(X_test)\n",
    "print(pred_tree)"
   ]
  }
 ],
 "metadata": {
  "kernelspec": {
   "display_name": "Python 3 (ipykernel)",
   "language": "python",
   "name": "python3"
  },
  "language_info": {
   "codemirror_mode": {
    "name": "ipython",
    "version": 3
   },
   "file_extension": ".py",
   "mimetype": "text/x-python",
   "name": "python",
   "nbconvert_exporter": "python",
   "pygments_lexer": "ipython3",
   "version": "3.9.7"
  }
 },
 "nbformat": 4,
 "nbformat_minor": 5
}
