{
 "cells": [
  {
   "cell_type": "markdown",
   "id": "ccdee67d",
   "metadata": {},
   "source": [
    "# Exploratory Data Analysis on the classic Titanic Dataset"
   ]
  },
  {
   "cell_type": "markdown",
   "id": "9a952777",
   "metadata": {},
   "source": [
    ">This notebook consists of the data preprocessing and analysis conducted on the titanic dataset that was downloaded from  [Kaggle](https://www.kaggle.com/c/titanic/data?select=train.csv)"
   ]
  },
  {
   "cell_type": "markdown",
   "id": "a2829024",
   "metadata": {},
   "source": [
    "#### Necessary Libraries "
   ]
  },
  {
   "cell_type": "code",
   "execution_count": 1,
   "id": "58ad358c",
   "metadata": {},
   "outputs": [],
   "source": [
    "import pandas as pd\n",
    "import numpy as np\n",
    "import matplotlib.pyplot as plt\n",
    "import seaborn as sns"
   ]
  },
  {
   "cell_type": "markdown",
   "id": "a99fa766",
   "metadata": {},
   "source": [
    "### Loading the Dataset"
   ]
  },
  {
   "cell_type": "code",
   "execution_count": 2,
   "id": "15cd97d7",
   "metadata": {},
   "outputs": [
    {
     "data": {
      "text/html": [
       "<div>\n",
       "<style scoped>\n",
       "    .dataframe tbody tr th:only-of-type {\n",
       "        vertical-align: middle;\n",
       "    }\n",
       "\n",
       "    .dataframe tbody tr th {\n",
       "        vertical-align: top;\n",
       "    }\n",
       "\n",
       "    .dataframe thead th {\n",
       "        text-align: right;\n",
       "    }\n",
       "</style>\n",
       "<table border=\"1\" class=\"dataframe\">\n",
       "  <thead>\n",
       "    <tr style=\"text-align: right;\">\n",
       "      <th></th>\n",
       "      <th>PassengerId</th>\n",
       "      <th>Survived</th>\n",
       "      <th>Pclass</th>\n",
       "      <th>Name</th>\n",
       "      <th>Sex</th>\n",
       "      <th>Age</th>\n",
       "      <th>SibSp</th>\n",
       "      <th>Parch</th>\n",
       "      <th>Ticket</th>\n",
       "      <th>Fare</th>\n",
       "      <th>Cabin</th>\n",
       "      <th>Embarked</th>\n",
       "    </tr>\n",
       "  </thead>\n",
       "  <tbody>\n",
       "    <tr>\n",
       "      <th>886</th>\n",
       "      <td>887</td>\n",
       "      <td>0</td>\n",
       "      <td>2</td>\n",
       "      <td>Montvila, Rev. Juozas</td>\n",
       "      <td>male</td>\n",
       "      <td>27.0</td>\n",
       "      <td>0</td>\n",
       "      <td>0</td>\n",
       "      <td>211536</td>\n",
       "      <td>13.00</td>\n",
       "      <td>NaN</td>\n",
       "      <td>S</td>\n",
       "    </tr>\n",
       "    <tr>\n",
       "      <th>887</th>\n",
       "      <td>888</td>\n",
       "      <td>1</td>\n",
       "      <td>1</td>\n",
       "      <td>Graham, Miss. Margaret Edith</td>\n",
       "      <td>female</td>\n",
       "      <td>19.0</td>\n",
       "      <td>0</td>\n",
       "      <td>0</td>\n",
       "      <td>112053</td>\n",
       "      <td>30.00</td>\n",
       "      <td>B42</td>\n",
       "      <td>S</td>\n",
       "    </tr>\n",
       "    <tr>\n",
       "      <th>888</th>\n",
       "      <td>889</td>\n",
       "      <td>0</td>\n",
       "      <td>3</td>\n",
       "      <td>Johnston, Miss. Catherine Helen \"Carrie\"</td>\n",
       "      <td>female</td>\n",
       "      <td>NaN</td>\n",
       "      <td>1</td>\n",
       "      <td>2</td>\n",
       "      <td>W./C. 6607</td>\n",
       "      <td>23.45</td>\n",
       "      <td>NaN</td>\n",
       "      <td>S</td>\n",
       "    </tr>\n",
       "    <tr>\n",
       "      <th>889</th>\n",
       "      <td>890</td>\n",
       "      <td>1</td>\n",
       "      <td>1</td>\n",
       "      <td>Behr, Mr. Karl Howell</td>\n",
       "      <td>male</td>\n",
       "      <td>26.0</td>\n",
       "      <td>0</td>\n",
       "      <td>0</td>\n",
       "      <td>111369</td>\n",
       "      <td>30.00</td>\n",
       "      <td>C148</td>\n",
       "      <td>C</td>\n",
       "    </tr>\n",
       "    <tr>\n",
       "      <th>890</th>\n",
       "      <td>891</td>\n",
       "      <td>0</td>\n",
       "      <td>3</td>\n",
       "      <td>Dooley, Mr. Patrick</td>\n",
       "      <td>male</td>\n",
       "      <td>32.0</td>\n",
       "      <td>0</td>\n",
       "      <td>0</td>\n",
       "      <td>370376</td>\n",
       "      <td>7.75</td>\n",
       "      <td>NaN</td>\n",
       "      <td>Q</td>\n",
       "    </tr>\n",
       "  </tbody>\n",
       "</table>\n",
       "</div>"
      ],
      "text/plain": [
       "     PassengerId  Survived  Pclass                                      Name  \\\n",
       "886          887         0       2                     Montvila, Rev. Juozas   \n",
       "887          888         1       1              Graham, Miss. Margaret Edith   \n",
       "888          889         0       3  Johnston, Miss. Catherine Helen \"Carrie\"   \n",
       "889          890         1       1                     Behr, Mr. Karl Howell   \n",
       "890          891         0       3                       Dooley, Mr. Patrick   \n",
       "\n",
       "        Sex   Age  SibSp  Parch      Ticket   Fare Cabin Embarked  \n",
       "886    male  27.0      0      0      211536  13.00   NaN        S  \n",
       "887  female  19.0      0      0      112053  30.00   B42        S  \n",
       "888  female   NaN      1      2  W./C. 6607  23.45   NaN        S  \n",
       "889    male  26.0      0      0      111369  30.00  C148        C  \n",
       "890    male  32.0      0      0      370376   7.75   NaN        Q  "
      ]
     },
     "execution_count": 2,
     "metadata": {},
     "output_type": "execute_result"
    }
   ],
   "source": [
    "data = pd.read_csv(\"InitialDataSet.csv\")\n",
    "data.tail()"
   ]
  },
  {
   "cell_type": "markdown",
   "id": "3c8f0940",
   "metadata": {},
   "source": [
    "From the above output we can have a brief overview of the dataset in  hand. Now, let's have a look at all the available features."
   ]
  },
  {
   "cell_type": "code",
   "execution_count": 3,
   "id": "7824b5c1",
   "metadata": {},
   "outputs": [
    {
     "data": {
      "text/plain": [
       "['PassengerId',\n",
       " 'Survived',\n",
       " 'Pclass',\n",
       " 'Name',\n",
       " 'Sex',\n",
       " 'Age',\n",
       " 'SibSp',\n",
       " 'Parch',\n",
       " 'Ticket',\n",
       " 'Fare',\n",
       " 'Cabin',\n",
       " 'Embarked']"
      ]
     },
     "execution_count": 3,
     "metadata": {},
     "output_type": "execute_result"
    }
   ],
   "source": [
    "list(data.columns)"
   ]
  },
  {
   "cell_type": "markdown",
   "id": "c5c8db8b",
   "metadata": {},
   "source": [
    "Here is a minimal description of above features present based on the data dictionary that was provided.\n",
    "* PassengerId  , Name : The Attribute assigned to each passengers onboard.\n",
    "* Survived : Data regarding the passengers mortality. Keys 0 and 1 which refer to No and Yes respectively.\n",
    "* Sex : Gender. Categorized as male and female.\n",
    "* Age : The recorded age of the passenger in number.\n",
    "* SibSp : The total number of siblings and spouse of the passenger.\n",
    "* Parch : The total number of parents and child of the passenger.\n",
    "* Ticket : Reference to the passenger's ticket.\n",
    "* Cabin : The Cabin Number the passenger was assigned to. \n",
    "* Embarked : Port of the passengers embarkment or Destination Spot. Keys C = Cherbourg, Q = Queenstown, S = Southampton"
   ]
  },
  {
   "cell_type": "markdown",
   "id": "a687dfc2",
   "metadata": {},
   "source": [
    "## Missing Data Handling "
   ]
  },
  {
   "cell_type": "markdown",
   "id": "aa323c65",
   "metadata": {},
   "source": [
    "After gaining the necessary familiarity with the assigned dataset, the task is to check in and visualize the missing values and also handle it suitably. So, initially, lets begin with the quest for finding the whereabouts of the missing data in our entire dataset. "
   ]
  },
  {
   "cell_type": "markdown",
   "id": "47b73317",
   "metadata": {},
   "source": [
    "#### Total Missing Values In Each Features "
   ]
  },
  {
   "cell_type": "code",
   "execution_count": 4,
   "id": "78c2cb2e",
   "metadata": {},
   "outputs": [
    {
     "data": {
      "text/plain": [
       "PassengerId      0\n",
       "Survived         0\n",
       "Pclass           0\n",
       "Name             0\n",
       "Sex              0\n",
       "Age            177\n",
       "SibSp            0\n",
       "Parch            0\n",
       "Ticket           0\n",
       "Fare             0\n",
       "Cabin          687\n",
       "Embarked         2\n",
       "dtype: int64"
      ]
     },
     "execution_count": 4,
     "metadata": {},
     "output_type": "execute_result"
    }
   ],
   "source": [
    "data.isnull().sum()"
   ]
  },
  {
   "cell_type": "markdown",
   "id": "7a3c20fb",
   "metadata": {},
   "source": [
    "From this, we know that there are 177 missing values in the age column , 687 on the Cabin and 2 on the embarked."
   ]
  },
  {
   "cell_type": "markdown",
   "id": "86700f58",
   "metadata": {},
   "source": [
    "#### Data Visualization of the Missing Values"
   ]
  },
  {
   "cell_type": "code",
   "execution_count": 5,
   "id": "f5512ff0",
   "metadata": {},
   "outputs": [
    {
     "data": {
      "text/plain": [
       "<AxesSubplot:>"
      ]
     },
     "execution_count": 5,
     "metadata": {},
     "output_type": "execute_result"
    },
    {
     "data": {
      "image/png": "[encoded data removed]",
      "text/plain": [
       "<Figure size 432x288 with 2 Axes>"
      ]
     },
     "metadata": {
      "needs_background": "light"
     },
     "output_type": "display_data"
    }
   ],
   "source": [
    "sns.heatmap(data.isnull(), yticklabels = False)"
   ]
  },
  {
   "cell_type": "markdown",
   "id": "ac08787e",
   "metadata": {},
   "source": [
    "From the above heatmap , we can analyze that the Age and Cabin features of the dataset consists of larger intensity of null values."
   ]
  },
  {
   "cell_type": "markdown",
   "id": "d43c7290",
   "metadata": {},
   "source": [
    "####  Handling The Unnecessary Columns"
   ]
  },
  {
   "cell_type": "code",
   "execution_count": 6,
   "id": "b8312250",
   "metadata": {},
   "outputs": [],
   "source": [
    "# dropping the \"Cabin\" column from the dataframe\n",
    "data = data.drop(columns='Cabin', axis=1)"
   ]
  },
  {
   "cell_type": "markdown",
   "id": "111e8396",
   "metadata": {},
   "source": [
    "As part of the missing data handling process, the Cabin column was dropped entirely as it appeared inefficeint due to the lack of credential amount of data present in it."
   ]
  },
  {
   "cell_type": "markdown",
   "id": "d150f9a9",
   "metadata": {},
   "source": [
    "## A Closer Look Into the Data With Visualization"
   ]
  },
  {
   "cell_type": "markdown",
   "id": "23cf27eb",
   "metadata": {},
   "source": [
    "The next step is to better understand the dataset we have. For this, we will build our analysis on each of the columns present in the dataset with the help of python's data visualization library seaborn. "
   ]
  },
  {
   "cell_type": "markdown",
   "id": "b030d575",
   "metadata": {},
   "source": [
    "#### Survived To Not Survived Visulation"
   ]
  },
  {
   "cell_type": "code",
   "execution_count": 7,
   "id": "49c5277a",
   "metadata": {},
   "outputs": [
    {
     "data": {
      "text/plain": [
       "<AxesSubplot:xlabel='Survived', ylabel='count'>"
      ]
     },
     "execution_count": 7,
     "metadata": {},
     "output_type": "execute_result"
    },
    {
     "data": {
      "image/png": "[encoded data removed]",
      "text/plain": [
       "<Figure size 432x288 with 1 Axes>"
      ]
     },
     "metadata": {},
     "output_type": "display_data"
    }
   ],
   "source": [
    "sns.set_style('darkgrid')\n",
    "sns.countplot(x='Survived',data=data)"
   ]
  },
  {
   "cell_type": "markdown",
   "id": "8ec53a82",
   "metadata": {},
   "source": [
    "From the above drawn countplot, we can visualize that the dataset consists of the details of larger number of passengers who died on the ship compared to the ones who survived it. "
   ]
  },
  {
   "cell_type": "markdown",
   "id": "848f8abd",
   "metadata": {},
   "source": [
    "##### Computing the total number of people who survived and did not survive "
   ]
  },
  {
   "cell_type": "code",
   "execution_count": 8,
   "id": "824b5fdd",
   "metadata": {},
   "outputs": [
    {
     "name": "stdout",
     "output_type": "stream",
     "text": [
      "The total number of people who survived the ship is 342 and the ones who died is 549.\n"
     ]
    }
   ],
   "source": [
    "print(f\"The total number of people who survived the ship is {data['Survived'].value_counts()[1]} and the ones who died is {data['Survived'].value_counts()[0]}.\")  "
   ]
  },
  {
   "cell_type": "markdown",
   "id": "45a18fbb",
   "metadata": {},
   "source": [
    "#### Male to Female Ratio Visualization"
   ]
  },
  {
   "cell_type": "code",
   "execution_count": 9,
   "id": "99b00ebe",
   "metadata": {},
   "outputs": [
    {
     "data": {
      "text/plain": [
       "<AxesSubplot:xlabel='Sex', ylabel='count'>"
      ]
     },
     "execution_count": 9,
     "metadata": {},
     "output_type": "execute_result"
    },
    {
     "data": {
      "image/png": "[encoded data removed]",
      "text/plain": [
       "<Figure size 432x288 with 1 Axes>"
      ]
     },
     "metadata": {},
     "output_type": "display_data"
    }
   ],
   "source": [
    "sns.countplot(x='Sex',data=data)"
   ]
  },
  {
   "cell_type": "markdown",
   "id": "9a23932c",
   "metadata": {},
   "source": [
    "From the above graphical representation, we can see that there are more number of male passengers compared to female. "
   ]
  },
  {
   "cell_type": "markdown",
   "id": "15f36515",
   "metadata": {},
   "source": [
    "###### Computing the respective numbers of  male and female passengers"
   ]
  },
  {
   "cell_type": "code",
   "execution_count": 10,
   "id": "ae0d4219",
   "metadata": {},
   "outputs": [
    {
     "data": {
      "text/plain": [
       "{'male': 577, 'female': 314}"
      ]
     },
     "execution_count": 10,
     "metadata": {},
     "output_type": "execute_result"
    }
   ],
   "source": [
    "dict(data['Sex'].value_counts())"
   ]
  },
  {
   "cell_type": "markdown",
   "id": "2e480035",
   "metadata": {},
   "source": [
    "#### Visualizing the Passenger Count On Each of the Destination Spots"
   ]
  },
  {
   "cell_type": "code",
   "execution_count": 11,
   "id": "f63ff4a8",
   "metadata": {},
   "outputs": [
    {
     "data": {
      "text/plain": [
       "<AxesSubplot:xlabel='Embarked', ylabel='count'>"
      ]
     },
     "execution_count": 11,
     "metadata": {},
     "output_type": "execute_result"
    },
    {
     "data": {
      "image/png": "[encoded data removed]",
      "text/plain": [
       "<Figure size 432x288 with 1 Axes>"
      ]
     },
     "metadata": {},
     "output_type": "display_data"
    }
   ],
   "source": [
    "sns.countplot(x='Embarked',data=data)"
   ]
  },
  {
   "cell_type": "markdown",
   "id": "1a954786",
   "metadata": {},
   "source": [
    "##### Computing the value counts on respective embarkments"
   ]
  },
  {
   "cell_type": "code",
   "execution_count": 12,
   "id": "c4bad065",
   "metadata": {},
   "outputs": [
    {
     "data": {
      "text/plain": [
       "{'S': 644, 'C': 168, 'Q': 77}"
      ]
     },
     "execution_count": 12,
     "metadata": {},
     "output_type": "execute_result"
    }
   ],
   "source": [
    "dict(data['Embarked'].value_counts())"
   ]
  },
  {
   "cell_type": "markdown",
   "id": "b391a8fc",
   "metadata": {},
   "source": [
    "#### Visualizing the Passenger Count On Each of the Ticket Classes "
   ]
  },
  {
   "cell_type": "code",
   "execution_count": 13,
   "id": "7ff1567d",
   "metadata": {},
   "outputs": [
    {
     "data": {
      "text/plain": [
       "<AxesSubplot:xlabel='Pclass', ylabel='count'>"
      ]
     },
     "execution_count": 13,
     "metadata": {},
     "output_type": "execute_result"
    },
    {
     "data": {
      "image/png": "[encoded data removed]",
      "text/plain": [
       "<Figure size 432x288 with 1 Axes>"
      ]
     },
     "metadata": {},
     "output_type": "display_data"
    }
   ],
   "source": [
    "sns.countplot(x='Pclass',data=data)"
   ]
  },
  {
   "cell_type": "markdown",
   "id": "e3a1275a",
   "metadata": {},
   "source": [
    "###### Computing the Passenger Count On Each of the Ticket Classes "
   ]
  },
  {
   "cell_type": "code",
   "execution_count": 14,
   "id": "2b8d50e8",
   "metadata": {},
   "outputs": [
    {
     "data": {
      "text/plain": [
       "3    491\n",
       "1    216\n",
       "2    184\n",
       "Name: Pclass, dtype: int64"
      ]
     },
     "execution_count": 14,
     "metadata": {},
     "output_type": "execute_result"
    }
   ],
   "source": [
    "data['Pclass'].value_counts()"
   ]
  },
  {
   "cell_type": "markdown",
   "id": "e97a0030",
   "metadata": {},
   "source": [
    "#### Visuaizing the Majority Age Group "
   ]
  },
  {
   "cell_type": "code",
   "execution_count": 15,
   "id": "60b4b9b5",
   "metadata": {},
   "outputs": [
    {
     "data": {
      "text/plain": [
       "<AxesSubplot:xlabel='Age'>"
      ]
     },
     "execution_count": 15,
     "metadata": {},
     "output_type": "execute_result"
    },
    {
     "data": {
      "image/png": "[encoded data removed]",
      "text/plain": [
       "<Figure size 432x288 with 1 Axes>"
      ]
     },
     "metadata": {},
     "output_type": "display_data"
    }
   ],
   "source": [
    "sns.boxplot(x=data[\"Age\"])"
   ]
  },
  {
   "cell_type": "markdown",
   "id": "47b6c21f",
   "metadata": {},
   "source": [
    "From the above boxplot, it is quite evident that most of the passengers fall under the age group of 20 to 39."
   ]
  },
  {
   "cell_type": "code",
   "execution_count": 22,
   "id": "78eccab4",
   "metadata": {},
   "outputs": [
    {
     "data": {
      "text/plain": [
       "(20.0, 30.0)"
      ]
     },
     "execution_count": 22,
     "metadata": {},
     "output_type": "execute_result"
    },
    {
     "data": {
      "image/png": "[encoded data removed]",
      "text/plain": [
       "<Figure size 695x216 with 1 Axes>"
      ]
     },
     "metadata": {},
     "output_type": "display_data"
    }
   ],
   "source": [
    "fac = sns.FacetGrid(data,hue = \"Survived\", aspect = 3)\n",
    "fac.map(sns.kdeplot,'Age',shade=True)\n",
    "fac.set(xlim=(0,data[\"Age\"].max()))\n",
    "fac.add_legend()\n",
    "plt.xlim(20,30)"
   ]
  },
  {
   "cell_type": "markdown",
   "id": "40362433",
   "metadata": {},
   "source": [
    "#####  Displaying the Unique Ages"
   ]
  },
  {
   "cell_type": "code",
   "execution_count": null,
   "id": "e5341bfa",
   "metadata": {},
   "outputs": [],
   "source": [
    "data['Age'].unique()"
   ]
  },
  {
   "cell_type": "code",
   "execution_count": null,
   "id": "89f09a9e",
   "metadata": {},
   "outputs": [],
   "source": [
    "dict(data['Age'].value_counts())"
   ]
  },
  {
   "cell_type": "markdown",
   "id": "1d97d63b",
   "metadata": {},
   "source": [
    "This dictionary consists of the total count of passengers belonging to respective ages. "
   ]
  },
  {
   "cell_type": "markdown",
   "id": "68197afe",
   "metadata": {},
   "source": [
    "#### Visualization of Passenger who survived and died From Respective PClass."
   ]
  },
  {
   "cell_type": "code",
   "execution_count": null,
   "id": "c8ce1be9",
   "metadata": {},
   "outputs": [],
   "source": [
    "sns.countplot(x='Pclass', hue='Survived', data=data)"
   ]
  },
  {
   "cell_type": "markdown",
   "id": "d376b61a",
   "metadata": {},
   "source": [
    "#### Distinct Visualization of Male and Females who survived or died"
   ]
  },
  {
   "cell_type": "code",
   "execution_count": null,
   "id": "86f471ff",
   "metadata": {},
   "outputs": [],
   "source": [
    "sns.countplot(x ='Sex', hue='Survived', data=data)"
   ]
  },
  {
   "cell_type": "markdown",
   "id": "c69aee1b",
   "metadata": {},
   "source": [
    "#### Visualization of Passenger of different sex and age range who survived and died."
   ]
  },
  {
   "cell_type": "code",
   "execution_count": null,
   "id": "e0000ebd",
   "metadata": {},
   "outputs": [],
   "source": [
    "sns.boxplot(x=data[\"Age\"], y = data[\"Sex\"] , hue= data[\"Survived\"], orient=\"h\", palette=\"Set3\")"
   ]
  },
  {
   "cell_type": "markdown",
   "id": "21fd3831",
   "metadata": {},
   "source": [
    "Following conlcusions can be drawn from the above resperesntation \n",
    "* Females of age group 19 to 38 could survive the shipwreck likewise that belonging to an age range of 16 to 34 died.\n",
    "* Males of age group 23 to 39 couldnt survive whereas the ones belonging to 18 to 36 did."
   ]
  },
  {
   "cell_type": "markdown",
   "id": "01304da4",
   "metadata": {},
   "source": [
    "#### Graphical Represntation of the Ticket Fare for Embarkments Based On the Pclass."
   ]
  },
  {
   "cell_type": "code",
   "execution_count": null,
   "id": "cec48e70",
   "metadata": {},
   "outputs": [],
   "source": [
    "plt.figure(figsize = (10,7))\n",
    "sns.stripplot(x=\"Pclass\", y=\"Fare\", hue=\"Embarked\", jitter= False, data=data)"
   ]
  },
  {
   "cell_type": "markdown",
   "id": "c6ffbdc5",
   "metadata": {},
   "source": [
    "The above stripplot shows the fare range for various passenger class ticket for respective embarkments as indicated by the index."
   ]
  },
  {
   "cell_type": "markdown",
   "id": "bef979bc",
   "metadata": {},
   "source": [
    "#### Visual Represntation of the Age Rang of Passengers Based On their Ticket class."
   ]
  },
  {
   "cell_type": "code",
   "execution_count": null,
   "id": "e3ea7a31",
   "metadata": {},
   "outputs": [],
   "source": [
    "plt.figure(figsize=(12, 7))\n",
    "sns.boxplot(x='Pclass',y='Age',data=data,palette='winter')"
   ]
  },
  {
   "cell_type": "markdown",
   "id": "a1373ff8",
   "metadata": {},
   "source": [
    "From the above graph , it is evident that the age agroup of passengers with Upper Class ticket that is 1 is between 25 and 50 \n",
    "whereas that with Middle class is 25 to 35 and finally with the lower is roughly 18 to 33. Thus we will now handle the missing datas of the Age column by situating in the datas with mean values based on the above mentioned conditions."
   ]
  },
  {
   "cell_type": "markdown",
   "id": "95afc484",
   "metadata": {},
   "source": [
    "Using this detail for **handling of the missing data** as:"
   ]
  },
  {
   "cell_type": "code",
   "execution_count": null,
   "id": "2b217efe",
   "metadata": {},
   "outputs": [],
   "source": [
    "def fillAge(cols):\n",
    "    \n",
    "    Age = cols[0]\n",
    "    Pclass = cols[1]\n",
    "    \n",
    "    if pd.isnull(Age):\n",
    "\n",
    "        if Pclass == 1:\n",
    "            return 38\n",
    "\n",
    "        elif Pclass == 2:\n",
    "            return 30\n",
    "\n",
    "        else:\n",
    "            return 24\n",
    "\n",
    "    else:\n",
    "        return Age"
   ]
  },
  {
   "cell_type": "markdown",
   "id": "551e5337",
   "metadata": {},
   "source": [
    "#### Imputing the missing age values with the above logic"
   ]
  },
  {
   "cell_type": "code",
   "execution_count": null,
   "id": "9061f8b5",
   "metadata": {},
   "outputs": [],
   "source": [
    "data['Age'] =data[['Age','Pclass']].apply(fillAge,axis=1)"
   ]
  },
  {
   "cell_type": "markdown",
   "id": "afcdb372",
   "metadata": {},
   "source": [
    "#### Checking the Missing Values In Age Column"
   ]
  },
  {
   "cell_type": "code",
   "execution_count": null,
   "id": "eea58946",
   "metadata": {},
   "outputs": [],
   "source": [
    "data['Age'].isnull().sum()"
   ]
  },
  {
   "cell_type": "markdown",
   "id": "322862f5",
   "metadata": {},
   "source": [
    "#### Visual Verification of Missing Data "
   ]
  },
  {
   "cell_type": "code",
   "execution_count": null,
   "id": "30f2f431",
   "metadata": {},
   "outputs": [],
   "source": [
    "sns.heatmap(data.isnull(), yticklabels = False)"
   ]
  },
  {
   "cell_type": "markdown",
   "id": "613acc7f",
   "metadata": {},
   "source": [
    "We still can spot some white pigments on the above heatmap under the embarked columns. This means we still got some work to do.\n"
   ]
  },
  {
   "cell_type": "markdown",
   "id": "8fdc5a4b",
   "metadata": {},
   "source": [
    "#### Checking the Missing Values In Age Column"
   ]
  },
  {
   "cell_type": "code",
   "execution_count": null,
   "id": "105204e4",
   "metadata": {},
   "outputs": [],
   "source": [
    "data['Embarked'].isnull().sum()"
   ]
  },
  {
   "cell_type": "markdown",
   "id": "ee19af1d",
   "metadata": {},
   "source": [
    "#### Computing the mode value of \"Embarked\" column"
   ]
  },
  {
   "cell_type": "code",
   "execution_count": null,
   "id": "5442234f",
   "metadata": {},
   "outputs": [],
   "source": [
    "print(data['Embarked'].mode())"
   ]
  },
  {
   "cell_type": "markdown",
   "id": "64709069",
   "metadata": {},
   "source": [
    "#### Handling the missing values in \"Embarked\" column with the mode value"
   ]
  },
  {
   "cell_type": "code",
   "execution_count": null,
   "id": "0cbb1b56",
   "metadata": {},
   "outputs": [],
   "source": [
    "data['Embarked'].fillna(data['Embarked'].mode()[0], inplace=True)"
   ]
  },
  {
   "cell_type": "code",
   "execution_count": null,
   "id": "ea1ae152",
   "metadata": {},
   "outputs": [],
   "source": [
    "data.isnull().sum()"
   ]
  },
  {
   "cell_type": "code",
   "execution_count": null,
   "id": "443f8aba",
   "metadata": {},
   "outputs": [],
   "source": [
    "sns.heatmap(data.isnull(), yticklabels = False)"
   ]
  },
  {
   "cell_type": "markdown",
   "id": "477c1c95",
   "metadata": {},
   "source": [
    "All the missing data has been sucessfully handled."
   ]
  },
  {
   "cell_type": "markdown",
   "id": "ff8d8f5a",
   "metadata": {},
   "source": [
    "```\n",
    " \n",
    " There we go. We did it, HOORAAAAYY !!!!!\n",
    " \n",
    "```"
   ]
  },
  {
   "cell_type": "markdown",
   "id": "2067b315",
   "metadata": {},
   "source": [
    "### Statistical Visualization of the data"
   ]
  },
  {
   "cell_type": "code",
   "execution_count": null,
   "id": "b64002e9",
   "metadata": {},
   "outputs": [],
   "source": [
    "data.describe()"
   ]
  },
  {
   "cell_type": "code",
   "execution_count": null,
   "id": "fa98c3fa",
   "metadata": {},
   "outputs": [],
   "source": [
    "data.info()"
   ]
  },
  {
   "cell_type": "markdown",
   "id": "1871ac98",
   "metadata": {},
   "source": [
    "The categories name, sex and ticket seems to be of object type. \n",
    ">**The goal is to pre-process the dataset and bring down the necessary features into numerical format.**"
   ]
  },
  {
   "cell_type": "markdown",
   "id": "68ee01c1",
   "metadata": {},
   "source": [
    "#### Transforming the Sex , Embarked Columns to categorical Columns"
   ]
  },
  {
   "cell_type": "code",
   "execution_count": null,
   "id": "88657f0a",
   "metadata": {},
   "outputs": [],
   "source": [
    "data.replace({'Sex':{'male':0,'female':1}, 'Embarked':{'S':0,'C':1,'Q':2}}, inplace=True)"
   ]
  },
  {
   "cell_type": "markdown",
   "id": "c653c602",
   "metadata": {},
   "source": [
    "As both the features consisted of inputs of certain categories the categories were assigned numerical keys and replaced accordingly. This method is also famous as **Label Encoding** ."
   ]
  },
  {
   "cell_type": "markdown",
   "id": "9a3e1688",
   "metadata": {},
   "source": [
    "#### Lets Look How Far We Have Come"
   ]
  },
  {
   "cell_type": "code",
   "execution_count": null,
   "id": "de001424",
   "metadata": {},
   "outputs": [],
   "source": [
    "data.head(10)"
   ]
  },
  {
   "cell_type": "markdown",
   "id": "17f12295",
   "metadata": {},
   "source": [
    "Okay, so we still got some work to be done here by handling the non-numeric columns. "
   ]
  },
  {
   "cell_type": "markdown",
   "id": "5c435967",
   "metadata": {},
   "source": [
    "#### Dropping the Inefficient Columns"
   ]
  },
  {
   "cell_type": "code",
   "execution_count": null,
   "id": "d319530a",
   "metadata": {},
   "outputs": [],
   "source": [
    "titanicData = data.drop(columns = ['PassengerId','Name','Ticket'],axis=1)"
   ]
  },
  {
   "cell_type": "code",
   "execution_count": null,
   "id": "a4f091d4",
   "metadata": {},
   "outputs": [],
   "source": [
    "titanicData.info()"
   ]
  },
  {
   "cell_type": "markdown",
   "id": "9f668304",
   "metadata": {},
   "source": [
    "#### Rearranging the Columns"
   ]
  },
  {
   "cell_type": "code",
   "execution_count": null,
   "id": "d548dd12",
   "metadata": {},
   "outputs": [],
   "source": [
    "colsOrder = ['Age','Sex','Pclass','Fare','SibSp','Parch', 'Embarked', 'Survived']\n",
    "FinalTitanicDataset = titanicData[colsOrder]"
   ]
  },
  {
   "cell_type": "markdown",
   "id": "bb6ca937",
   "metadata": {},
   "source": [
    "### A Final Look Into Our Pre-processed Dataset"
   ]
  },
  {
   "cell_type": "code",
   "execution_count": null,
   "id": "fff3e2d4",
   "metadata": {},
   "outputs": [],
   "source": [
    "FinalTitanicDataset.sample(n=10 , ignore_index = True)"
   ]
  },
  {
   "cell_type": "markdown",
   "id": "d9c539a1",
   "metadata": {},
   "source": [
    "### Saving The Refined Data Into a new CSV"
   ]
  },
  {
   "cell_type": "code",
   "execution_count": null,
   "id": "61682aca",
   "metadata": {},
   "outputs": [],
   "source": [
    "FinalTitanicDataset.to_csv('ReadyToTrain.csv')"
   ]
  },
  {
   "cell_type": "markdown",
   "id": "0dafee1c",
   "metadata": {},
   "source": [
    "> That was it. We now have a properly analyzed and pre-processed dataset that can further be used for traning a ML model."
   ]
  }
 ],
 "metadata": {
  "kernelspec": {
   "display_name": "Python 3 (ipykernel)",
   "language": "python",
   "name": "python3"
  },
  "language_info": {
   "codemirror_mode": {
    "name": "ipython",
    "version": 3
   },
   "file_extension": ".py",
   "mimetype": "text/x-python",
   "name": "python",
   "nbconvert_exporter": "python",
   "pygments_lexer": "ipython3",
   "version": "3.9.7"
  }
 },
 "nbformat": 4,
 "nbformat_minor": 5
}
