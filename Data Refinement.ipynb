{
 "cells": [
  {
   "cell_type": "markdown",
   "id": "ccdee67d",
   "metadata": {},
   "source": [
    "# Exploratory Data Analysis on the classic Titanic Dataset"
   ]
  },
  {
   "cell_type": "markdown",
   "id": "9a952777",
   "metadata": {},
   "source": [
    ">This notebook consists of the data preprocessing and analysis conducted on the titanic dataset that was downloaded from  [Kaggle](https://www.kaggle.com/c/titanic/data?select=train.csv)"
   ]
  },
  {
   "cell_type": "markdown",
   "id": "a2829024",
   "metadata": {},
   "source": [
    "#### Necessary Libraries "
   ]
  },
  {
   "cell_type": "code",
   "execution_count": 1,
   "id": "58ad358c",
   "metadata": {},
   "outputs": [],
   "source": [
    "import pandas as pd\n",
    "import numpy as np\n",
    "import matplotlib.pyplot as plt\n",
    "import seaborn as sns"
   ]
  },
  {
   "cell_type": "markdown",
   "id": "a99fa766",
   "metadata": {},
   "source": [
    "### Loading the Dataset"
   ]
  },
  {
   "cell_type": "code",
   "execution_count": 2,
   "id": "15cd97d7",
   "metadata": {},
   "outputs": [
    {
     "data": {
      "text/html": [
       "<div>\n",
       "<style scoped>\n",
       "    .dataframe tbody tr th:only-of-type {\n",
       "        vertical-align: middle;\n",
       "    }\n",
       "\n",
       "    .dataframe tbody tr th {\n",
       "        vertical-align: top;\n",
       "    }\n",
       "\n",
       "    .dataframe thead th {\n",
       "        text-align: right;\n",
       "    }\n",
       "</style>\n",
       "<table border=\"1\" class=\"dataframe\">\n",
       "  <thead>\n",
       "    <tr style=\"text-align: right;\">\n",
       "      <th></th>\n",
       "      <th>PassengerId</th>\n",
       "      <th>Survived</th>\n",
       "      <th>Pclass</th>\n",
       "      <th>Name</th>\n",
       "      <th>Sex</th>\n",
       "      <th>Age</th>\n",
       "      <th>SibSp</th>\n",
       "      <th>Parch</th>\n",
       "      <th>Ticket</th>\n",
       "      <th>Fare</th>\n",
       "      <th>Cabin</th>\n",
       "      <th>Embarked</th>\n",
       "    </tr>\n",
       "  </thead>\n",
       "  <tbody>\n",
       "    <tr>\n",
       "      <th>886</th>\n",
       "      <td>887</td>\n",
       "      <td>0</td>\n",
       "      <td>2</td>\n",
       "      <td>Montvila, Rev. Juozas</td>\n",
       "      <td>male</td>\n",
       "      <td>27.0</td>\n",
       "      <td>0</td>\n",
       "      <td>0</td>\n",
       "      <td>211536</td>\n",
       "      <td>13.00</td>\n",
       "      <td>NaN</td>\n",
       "      <td>S</td>\n",
       "    </tr>\n",
       "    <tr>\n",
       "      <th>887</th>\n",
       "      <td>888</td>\n",
       "      <td>1</td>\n",
       "      <td>1</td>\n",
       "      <td>Graham, Miss. Margaret Edith</td>\n",
       "      <td>female</td>\n",
       "      <td>19.0</td>\n",
       "      <td>0</td>\n",
       "      <td>0</td>\n",
       "      <td>112053</td>\n",
       "      <td>30.00</td>\n",
       "      <td>B42</td>\n",
       "      <td>S</td>\n",
       "    </tr>\n",
       "    <tr>\n",
       "      <th>888</th>\n",
       "      <td>889</td>\n",
       "      <td>0</td>\n",
       "      <td>3</td>\n",
       "      <td>Johnston, Miss. Catherine Helen \"Carrie\"</td>\n",
       "      <td>female</td>\n",
       "      <td>NaN</td>\n",
       "      <td>1</td>\n",
       "      <td>2</td>\n",
       "      <td>W./C. 6607</td>\n",
       "      <td>23.45</td>\n",
       "      <td>NaN</td>\n",
       "      <td>S</td>\n",
       "    </tr>\n",
       "    <tr>\n",
       "      <th>889</th>\n",
       "      <td>890</td>\n",
       "      <td>1</td>\n",
       "      <td>1</td>\n",
       "      <td>Behr, Mr. Karl Howell</td>\n",
       "      <td>male</td>\n",
       "      <td>26.0</td>\n",
       "      <td>0</td>\n",
       "      <td>0</td>\n",
       "      <td>111369</td>\n",
       "      <td>30.00</td>\n",
       "      <td>C148</td>\n",
       "      <td>C</td>\n",
       "    </tr>\n",
       "    <tr>\n",
       "      <th>890</th>\n",
       "      <td>891</td>\n",
       "      <td>0</td>\n",
       "      <td>3</td>\n",
       "      <td>Dooley, Mr. Patrick</td>\n",
       "      <td>male</td>\n",
       "      <td>32.0</td>\n",
       "      <td>0</td>\n",
       "      <td>0</td>\n",
       "      <td>370376</td>\n",
       "      <td>7.75</td>\n",
       "      <td>NaN</td>\n",
       "      <td>Q</td>\n",
       "    </tr>\n",
       "  </tbody>\n",
       "</table>\n",
       "</div>"
      ],
      "text/plain": [
       "     PassengerId  Survived  Pclass                                      Name  \\\n",
       "886          887         0       2                     Montvila, Rev. Juozas   \n",
       "887          888         1       1              Graham, Miss. Margaret Edith   \n",
       "888          889         0       3  Johnston, Miss. Catherine Helen \"Carrie\"   \n",
       "889          890         1       1                     Behr, Mr. Karl Howell   \n",
       "890          891         0       3                       Dooley, Mr. Patrick   \n",
       "\n",
       "        Sex   Age  SibSp  Parch      Ticket   Fare Cabin Embarked  \n",
       "886    male  27.0      0      0      211536  13.00   NaN        S  \n",
       "887  female  19.0      0      0      112053  30.00   B42        S  \n",
       "888  female   NaN      1      2  W./C. 6607  23.45   NaN        S  \n",
       "889    male  26.0      0      0      111369  30.00  C148        C  \n",
       "890    male  32.0      0      0      370376   7.75   NaN        Q  "
      ]
     },
     "execution_count": 2,
     "metadata": {},
     "output_type": "execute_result"
    }
   ],
   "source": [
    "data = pd.read_csv(\"InitialDataSet.csv\")\n",
    "data.tail()"
   ]
  },
  {
   "cell_type": "markdown",
   "id": "3c8f0940",
   "metadata": {},
   "source": [
    "From the above output we can have a brief overview of the dataset in  hand. Now, let's have a look at all the available features."
   ]
  },
  {
   "cell_type": "code",
   "execution_count": 3,
   "id": "7824b5c1",
   "metadata": {},
   "outputs": [
    {
     "data": {
      "text/plain": [
       "['PassengerId',\n",
       " 'Survived',\n",
       " 'Pclass',\n",
       " 'Name',\n",
       " 'Sex',\n",
       " 'Age',\n",
       " 'SibSp',\n",
       " 'Parch',\n",
       " 'Ticket',\n",
       " 'Fare',\n",
       " 'Cabin',\n",
       " 'Embarked']"
      ]
     },
     "execution_count": 3,
     "metadata": {},
     "output_type": "execute_result"
    }
   ],
   "source": [
    "list(data.columns)"
   ]
  },
  {
   "cell_type": "markdown",
   "id": "c5c8db8b",
   "metadata": {},
   "source": [
    "Here is a minimal description of above features present based on the data dictionary that was provided.\n",
    "* PassengerId  , Name : The Attribute assigned to each passengers onboard.\n",
    "* Survived : Data regarding the passengers mortality. Keys 0 and 1 which refer to No and Yes respectively.\n",
    "* Sex : Gender. Categorized as male and female.\n",
    "* Age : The recorded age of the passenger in number.\n",
    "* SibSp : The total number of siblings and spouse of the passenger.\n",
    "* Parch : The total number of parents and child of the passenger.\n",
    "* Ticket : Reference to the passenger's ticket.\n",
    "* Cabin : The Cabin Number the passenger was assigned to. \n",
    "* Embarked : Port of the passengers embarkment or Destination Spot. Keys C = Cherbourg, Q = Queenstown, S = Southampton"
   ]
  },
  {
   "cell_type": "markdown",
   "id": "a687dfc2",
   "metadata": {},
   "source": [
    "## Missing Data Handling "
   ]
  },
  {
   "cell_type": "markdown",
   "id": "aa323c65",
   "metadata": {},
   "source": [
    "After gaining the necessary familiarity with the assigned dataset, the task is to check in and visualize the missing values and also handle it suitably. So, initially, lets begin with the quest for finding the whereabouts of the missing data in our entire dataset. "
   ]
  },
  {
   "cell_type": "markdown",
   "id": "47b73317",
   "metadata": {},
   "source": [
    "#### Total Missing Values In Each Features "
   ]
  },
  {
   "cell_type": "code",
   "execution_count": 4,
   "id": "78c2cb2e",
   "metadata": {},
   "outputs": [
    {
     "data": {
      "text/plain": [
       "PassengerId      0\n",
       "Survived         0\n",
       "Pclass           0\n",
       "Name             0\n",
       "Sex              0\n",
       "Age            177\n",
       "SibSp            0\n",
       "Parch            0\n",
       "Ticket           0\n",
       "Fare             0\n",
       "Cabin          687\n",
       "Embarked         2\n",
       "dtype: int64"
      ]
     },
     "execution_count": 4,
     "metadata": {},
     "output_type": "execute_result"
    }
   ],
   "source": [
    "data.isnull().sum()"
   ]
  },
  {
   "cell_type": "markdown",
   "id": "7a3c20fb",
   "metadata": {},
   "source": [
    "From this, we know that there are 177 missing values in the age column , 687 on the Cabin and 2 on the embarked."
   ]
  },
  {
   "cell_type": "markdown",
   "id": "86700f58",
   "metadata": {},
   "source": [
    "#### Data Visualization of the Missing Values"
   ]
  },
  {
   "cell_type": "code",
   "execution_count": 5,
   "id": "f5512ff0",
   "metadata": {},
   "outputs": [
    {
     "data": {
      "text/plain": [
       "<AxesSubplot:>"
      ]
     },
     "execution_count": 5,
     "metadata": {},
     "output_type": "execute_result"
    },
    {
     "data": {
      "image/png": "[encoded data removed]",
      "text/plain": [
       "<Figure size 432x288 with 2 Axes>"
      ]
     },
     "metadata": {
      "needs_background": "light"
     },
     "output_type": "display_data"
    }
   ],
   "source": [
    "sns.heatmap(data.isnull(), yticklabels = False)"
   ]
  },
  {
   "cell_type": "markdown",
   "id": "ac08787e",
   "metadata": {},
   "source": [
    "From the above heatmap , we can analyze that the Age and Cabin features of the dataset consists of larger intensity of null values."
   ]
  },
  {
   "cell_type": "markdown",
   "id": "d43c7290",
   "metadata": {},
   "source": [
    "####  Handling The Unnecessary Columns"
   ]
  },
  {
   "cell_type": "code",
   "execution_count": 6,
   "id": "b8312250",
   "metadata": {},
   "outputs": [],
   "source": [
    "# dropping the \"Cabin\" column from the dataframe\n",
    "data = data.drop(columns='Cabin', axis=1)"
   ]
  },
  {
   "cell_type": "markdown",
   "id": "111e8396",
   "metadata": {},
   "source": [
    "As part of the missing data handling process, the Cabin column was dropped entirely as it appeared inefficeint due to the lack of credential amount of data present in it."
   ]
  },
  {
   "cell_type": "markdown",
   "id": "d150f9a9",
   "metadata": {},
   "source": [
    "## A Closer Look Into the Data With Visualization"
   ]
  },
  {
   "cell_type": "markdown",
   "id": "23cf27eb",
   "metadata": {},
   "source": [
    "The next step is to better understand the dataset we have. For this, we will build our analysis on each of the columns present in the dataset with the help of python's data visualization library seaborn. "
   ]
  },
  {
   "cell_type": "markdown",
   "id": "b030d575",
   "metadata": {},
   "source": [
    "#### Survived To Not Survived Visulation"
   ]
  },
  {
   "cell_type": "code",
   "execution_count": 7,
   "id": "49c5277a",
   "metadata": {},
   "outputs": [
    {
     "data": {
      "text/plain": [
       "<AxesSubplot:xlabel='Survived', ylabel='count'>"
      ]
     },
     "execution_count": 7,
     "metadata": {},
     "output_type": "execute_result"
    },
    {
     "data": {
      "image/png": "[encoded data removed]",
      "text/plain": [
       "<Figure size 432x288 with 1 Axes>"
      ]
     },
     "metadata": {},
     "output_type": "display_data"
    }
   ],
   "source": [
    "sns.set_style('darkgrid')\n",
    "sns.countplot(x='Survived',data=data)"
   ]
  },
  {
   "cell_type": "markdown",
   "id": "8ec53a82",
   "metadata": {},
   "source": [
    "From the above drawn countplot, we can visualize that the dataset consists of the details of larger number of passengers who died on the ship compared to the ones who survived it. "
   ]
  },
  {
   "cell_type": "markdown",
   "id": "848f8abd",
   "metadata": {},
   "source": [
    "##### Computing the total number of people who survived and did not survive "
   ]
  },
  {
   "cell_type": "code",
   "execution_count": 8,
   "id": "824b5fdd",
   "metadata": {},
   "outputs": [
    {
     "name": "stdout",
     "output_type": "stream",
     "text": [
      "The total number of people who survived the ship is 342 and the ones who died is 549.\n"
     ]
    }
   ],
   "source": [
    "print(f\"The total number of people who survived the ship is {data['Survived'].value_counts()[1]} and the ones who died is {data['Survived'].value_counts()[0]}.\")  "
   ]
  },
  {
   "cell_type": "markdown",
   "id": "45a18fbb",
   "metadata": {},
   "source": [
    "#### Male to Female Ratio Visualization"
   ]
  },
  {
   "cell_type": "code",
   "execution_count": 9,
   "id": "99b00ebe",
   "metadata": {},
   "outputs": [
    {
     "data": {
      "text/plain": [
       "<AxesSubplot:xlabel='Sex', ylabel='count'>"
      ]
     },
     "execution_count": 9,
     "metadata": {},
     "output_type": "execute_result"
    },
    {
     "data": {
      "image/png": "[encoded data removed]",
      "text/plain": [
       "<Figure size 432x288 with 1 Axes>"
      ]
     },
     "metadata": {},
     "output_type": "display_data"
    }
   ],
   "source": [
    "sns.countplot(x='Sex',data=data)"
   ]
  },
  {
   "cell_type": "markdown",
   "id": "9a23932c",
   "metadata": {},
   "source": [
    "From the above graphical representation, we can see that there are more number of male passengers compared to female. "
   ]
  },
  {
   "cell_type": "markdown",
   "id": "15f36515",
   "metadata": {},
   "source": [
    "###### Computing the respective numbers of  male and female passengers"
   ]
  },
  {
   "cell_type": "code",
   "execution_count": 10,
   "id": "ae0d4219",
   "metadata": {},
   "outputs": [
    {
     "data": {
      "text/plain": [
       "{'male': 577, 'female': 314}"
      ]
     },
     "execution_count": 10,
     "metadata": {},
     "output_type": "execute_result"
    }
   ],
   "source": [
    "dict(data['Sex'].value_counts())"
   ]
  },
  {
   "cell_type": "markdown",
   "id": "2e480035",
   "metadata": {},
   "source": [
    "#### Visualizing the Passenger Count On Each of the Destination Spots"
   ]
  },
  {
   "cell_type": "code",
   "execution_count": 11,
   "id": "f63ff4a8",
   "metadata": {},
   "outputs": [
    {
     "data": {
      "text/plain": [
       "<AxesSubplot:xlabel='Embarked', ylabel='count'>"
      ]
     },
     "execution_count": 11,
     "metadata": {},
     "output_type": "execute_result"
    },
    {
     "data": {
      "image/png": "[encoded data removed]",
      "text/plain": [
       "<Figure size 432x288 with 1 Axes>"
      ]
     },
     "metadata": {},
     "output_type": "display_data"
    }
   ],
   "source": [
    "sns.countplot(x='Embarked',data=data)"
   ]
  },
  {
   "cell_type": "markdown",
   "id": "1a954786",
   "metadata": {},
   "source": [
    "##### Computing the value counts on respective embarkments"
   ]
  },
  {
   "cell_type": "code",
   "execution_count": 12,
   "id": "c4bad065",
   "metadata": {},
   "outputs": [
    {
     "data": {
      "text/plain": [
       "{'S': 644, 'C': 168, 'Q': 77}"
      ]
     },
     "execution_count": 12,
     "metadata": {},
     "output_type": "execute_result"
    }
   ],
   "source": [
    "dict(data['Embarked'].value_counts())"
   ]
  },
  {
   "cell_type": "markdown",
   "id": "b391a8fc",
   "metadata": {},
   "source": [
    "#### Visualizing the Passenger Count On Each of the Ticket Classes "
   ]
  },
  {
   "cell_type": "code",
   "execution_count": 13,
   "id": "7ff1567d",
   "metadata": {},
   "outputs": [
    {
     "data": {
      "text/plain": [
       "<AxesSubplot:xlabel='Pclass', ylabel='count'>"
      ]
     },
     "execution_count": 13,
     "metadata": {},
     "output_type": "execute_result"
    },
    {
     "data": {
      "image/png": "[encoded data removed]",
      "text/plain": [
       "<Figure size 432x288 with 1 Axes>"
      ]
     },
     "metadata": {},
     "output_type": "display_data"
    }
   ],
   "source": [
    "sns.countplot(x='Pclass',data=data)"
   ]
  },
  {
   "cell_type": "markdown",
   "id": "e3a1275a",
   "metadata": {},
   "source": [
    "###### Computing the Passenger Count On Each of the Ticket Classes "
   ]
  },
  {
   "cell_type": "code",
   "execution_count": 14,
   "id": "2b8d50e8",
   "metadata": {},
   "outputs": [
    {
     "data": {
      "text/plain": [
       "3    491\n",
       "1    216\n",
       "2    184\n",
       "Name: Pclass, dtype: int64"
      ]
     },
     "execution_count": 14,
     "metadata": {},
     "output_type": "execute_result"
    }
   ],
   "source": [
    "data['Pclass'].value_counts()"
   ]
  },
  {
   "cell_type": "markdown",
   "id": "e97a0030",
   "metadata": {},
   "source": [
    "#### Visuaizing the Majority Age Group "
   ]
  },
  {
   "cell_type": "code",
   "execution_count": 15,
   "id": "60b4b9b5",
   "metadata": {},
   "outputs": [
    {
     "data": {
      "text/plain": [
       "<AxesSubplot:xlabel='Age'>"
      ]
     },
     "execution_count": 15,
     "metadata": {},
     "output_type": "execute_result"
    },
    {
     "data": {
      "image/png": "[encoded data removed]",
      "text/plain": [
       "<Figure size 432x288 with 1 Axes>"
      ]
     },
     "metadata": {},
     "output_type": "display_data"
    }
   ],
   "source": [
    "sns.boxplot(x=data[\"Age\"])"
   ]
  },
  {
   "cell_type": "markdown",
   "id": "47b6c21f",
   "metadata": {},
   "source": [
    "From the above boxplot, it is quite evident that most of the passengers fall under the age group of 20 to 39."
   ]
  },
  {
   "cell_type": "markdown",
   "id": "940fb4f5",
   "metadata": {},
   "source": [
    "##### Lets look at the intensity of the survival rate on this particular range"
   ]
  },
  {
   "cell_type": "code",
   "execution_count": 16,
   "id": "c2a24e13",
   "metadata": {},
   "outputs": [
    {
     "data": {
      "text/plain": [
       "(15.0, 39.0)"
      ]
     },
     "execution_count": 16,
     "metadata": {},
     "output_type": "execute_result"
    },
    {
     "data": {
      "image/png": "[encoded data removed]",
      "text/plain": [
       "<Figure size 695x216 with 1 Axes>"
      ]
     },
     "metadata": {},
     "output_type": "display_data"
    }
   ],
   "source": [
    "fac = sns.FacetGrid(data,hue = \"Survived\", aspect = 3)\n",
    "fac.map(sns.kdeplot,'Age',shade=True)\n",
    "fac.set(xlim=(0,data[\"Age\"].max()))\n",
    "fac.add_legend()\n",
    "plt.xlim(15,39)"
   ]
  },
  {
   "cell_type": "markdown",
   "id": "40362433",
   "metadata": {},
   "source": [
    "#####  Displaying the Unique Ages"
   ]
  },
  {
   "cell_type": "code",
   "execution_count": 17,
   "id": "e5341bfa",
   "metadata": {},
   "outputs": [
    {
     "data": {
      "text/plain": [
       "array([22.  , 38.  , 26.  , 35.  ,   nan, 54.  ,  2.  , 27.  , 14.  ,\n",
       "        4.  , 58.  , 20.  , 39.  , 55.  , 31.  , 34.  , 15.  , 28.  ,\n",
       "        8.  , 19.  , 40.  , 66.  , 42.  , 21.  , 18.  ,  3.  ,  7.  ,\n",
       "       49.  , 29.  , 65.  , 28.5 ,  5.  , 11.  , 45.  , 17.  , 32.  ,\n",
       "       16.  , 25.  ,  0.83, 30.  , 33.  , 23.  , 24.  , 46.  , 59.  ,\n",
       "       71.  , 37.  , 47.  , 14.5 , 70.5 , 32.5 , 12.  ,  9.  , 36.5 ,\n",
       "       51.  , 55.5 , 40.5 , 44.  ,  1.  , 61.  , 56.  , 50.  , 36.  ,\n",
       "       45.5 , 20.5 , 62.  , 41.  , 52.  , 63.  , 23.5 ,  0.92, 43.  ,\n",
       "       60.  , 10.  , 64.  , 13.  , 48.  ,  0.75, 53.  , 57.  , 80.  ,\n",
       "       70.  , 24.5 ,  6.  ,  0.67, 30.5 ,  0.42, 34.5 , 74.  ])"
      ]
     },
     "execution_count": 17,
     "metadata": {},
     "output_type": "execute_result"
    }
   ],
   "source": [
    "data['Age'].unique()"
   ]
  },
  {
   "cell_type": "code",
   "execution_count": 18,
   "id": "89f09a9e",
   "metadata": {},
   "outputs": [
    {
     "data": {
      "text/plain": [
       "{24.0: 30,\n",
       " 22.0: 27,\n",
       " 18.0: 26,\n",
       " 19.0: 25,\n",
       " 28.0: 25,\n",
       " 30.0: 25,\n",
       " 21.0: 24,\n",
       " 25.0: 23,\n",
       " 36.0: 22,\n",
       " 29.0: 20,\n",
       " 32.0: 18,\n",
       " 35.0: 18,\n",
       " 27.0: 18,\n",
       " 26.0: 18,\n",
       " 16.0: 17,\n",
       " 31.0: 17,\n",
       " 20.0: 15,\n",
       " 34.0: 15,\n",
       " 33.0: 15,\n",
       " 23.0: 15,\n",
       " 39.0: 14,\n",
       " 40.0: 13,\n",
       " 17.0: 13,\n",
       " 42.0: 13,\n",
       " 45.0: 12,\n",
       " 38.0: 11,\n",
       " 50.0: 10,\n",
       " 2.0: 10,\n",
       " 4.0: 10,\n",
       " 44.0: 9,\n",
       " 48.0: 9,\n",
       " 47.0: 9,\n",
       " 54.0: 8,\n",
       " 9.0: 8,\n",
       " 1.0: 7,\n",
       " 51.0: 7,\n",
       " 14.0: 6,\n",
       " 52.0: 6,\n",
       " 37.0: 6,\n",
       " 49.0: 6,\n",
       " 41.0: 6,\n",
       " 3.0: 6,\n",
       " 58.0: 5,\n",
       " 15.0: 5,\n",
       " 43.0: 5,\n",
       " 62.0: 4,\n",
       " 56.0: 4,\n",
       " 5.0: 4,\n",
       " 11.0: 4,\n",
       " 60.0: 4,\n",
       " 8.0: 4,\n",
       " 6.0: 3,\n",
       " 46.0: 3,\n",
       " 61.0: 3,\n",
       " 65.0: 3,\n",
       " 7.0: 3,\n",
       " 10.0: 2,\n",
       " 64.0: 2,\n",
       " 13.0: 2,\n",
       " 63.0: 2,\n",
       " 30.5: 2,\n",
       " 57.0: 2,\n",
       " 70.0: 2,\n",
       " 0.75: 2,\n",
       " 71.0: 2,\n",
       " 59.0: 2,\n",
       " 0.83: 2,\n",
       " 40.5: 2,\n",
       " 55.0: 2,\n",
       " 32.5: 2,\n",
       " 28.5: 2,\n",
       " 45.5: 2,\n",
       " 34.5: 1,\n",
       " 0.42: 1,\n",
       " 0.67: 1,\n",
       " 66.0: 1,\n",
       " 24.5: 1,\n",
       " 80.0: 1,\n",
       " 20.5: 1,\n",
       " 53.0: 1,\n",
       " 14.5: 1,\n",
       " 70.5: 1,\n",
       " 12.0: 1,\n",
       " 36.5: 1,\n",
       " 55.5: 1,\n",
       " 0.92: 1,\n",
       " 23.5: 1,\n",
       " 74.0: 1}"
      ]
     },
     "execution_count": 18,
     "metadata": {},
     "output_type": "execute_result"
    }
   ],
   "source": [
    "dict(data['Age'].value_counts())"
   ]
  },
  {
   "cell_type": "markdown",
   "id": "1d97d63b",
   "metadata": {},
   "source": [
    "This dictionary consists of the total count of passengers belonging to respective ages. "
   ]
  },
  {
   "cell_type": "markdown",
   "id": "68197afe",
   "metadata": {},
   "source": [
    "#### Visualization of Passenger who survived and died From Respective PClass."
   ]
  },
  {
   "cell_type": "code",
   "execution_count": 19,
   "id": "c8ce1be9",
   "metadata": {},
   "outputs": [
    {
     "data": {
      "text/plain": [
       "<AxesSubplot:xlabel='Pclass', ylabel='count'>"
      ]
     },
     "execution_count": 19,
     "metadata": {},
     "output_type": "execute_result"
    },
    {
     "data": {
      "image/png": "[encoded data removed]",
      "text/plain": [
       "<Figure size 432x288 with 1 Axes>"
      ]
     },
     "metadata": {},
     "output_type": "display_data"
    }
   ],
   "source": [
    "sns.countplot(x='Pclass', hue='Survived', data=data)"
   ]
  },
  {
   "cell_type": "markdown",
   "id": "d376b61a",
   "metadata": {},
   "source": [
    "#### Distinct Visualization of Male and Females who survived or died"
   ]
  },
  {
   "cell_type": "code",
   "execution_count": 20,
   "id": "86f471ff",
   "metadata": {},
   "outputs": [
    {
     "data": {
      "text/plain": [
       "<AxesSubplot:xlabel='Sex', ylabel='count'>"
      ]
     },
     "execution_count": 20,
     "metadata": {},
     "output_type": "execute_result"
    },
    {
     "data": {
      "image/png": "[encoded data removed]",
      "text/plain": [
       "<Figure size 432x288 with 1 Axes>"
      ]
     },
     "metadata": {},
     "output_type": "display_data"
    }
   ],
   "source": [
    "sns.countplot(x ='Sex', hue='Survived', data=data)"
   ]
  },
  {
   "cell_type": "markdown",
   "id": "c69aee1b",
   "metadata": {},
   "source": [
    "#### Visualization of Passenger of different sex and age range who survived and died."
   ]
  },
  {
   "cell_type": "code",
   "execution_count": 21,
   "id": "e0000ebd",
   "metadata": {},
   "outputs": [
    {
     "data": {
      "text/plain": [
       "<AxesSubplot:xlabel='Age', ylabel='Sex'>"
      ]
     },
     "execution_count": 21,
     "metadata": {},
     "output_type": "execute_result"
    },
    {
     "data": {
      "image/png": "[encoded data removed]",
      "text/plain": [
       "<Figure size 432x288 with 1 Axes>"
      ]
     },
     "metadata": {},
     "output_type": "display_data"
    }
   ],
   "source": [
    "sns.boxplot(x=data[\"Age\"], y = data[\"Sex\"] , hue= data[\"Survived\"], orient=\"h\", palette=\"Set3\")"
   ]
  },
  {
   "cell_type": "markdown",
   "id": "21fd3831",
   "metadata": {},
   "source": [
    "Following conlcusions can be drawn from the above resperesntation \n",
    "* Females of age group 19 to 38 could survive the shipwreck likewise that belonging to an age range of 16 to 34 died.\n",
    "* Males of age group 23 to 39 couldnt survive whereas the ones belonging to 18 to 36 did."
   ]
  },
  {
   "cell_type": "markdown",
   "id": "01304da4",
   "metadata": {},
   "source": [
    "#### Graphical Represntation of the Ticket Fare for Embarkments Based On the Pclass."
   ]
  },
  {
   "cell_type": "code",
   "execution_count": 22,
   "id": "cec48e70",
   "metadata": {},
   "outputs": [
    {
     "data": {
      "text/plain": [
       "<AxesSubplot:xlabel='Pclass', ylabel='Fare'>"
      ]
     },
     "execution_count": 22,
     "metadata": {},
     "output_type": "execute_result"
    },
    {
     "data": {
      "image/png": "[encoded data removed]",
      "text/plain": [
       "<Figure size 720x504 with 1 Axes>"
      ]
     },
     "metadata": {},
     "output_type": "display_data"
    }
   ],
   "source": [
    "plt.figure(figsize = (10,7))\n",
    "sns.stripplot(x=\"Pclass\", y=\"Fare\", hue=\"Embarked\", jitter= False, data=data)"
   ]
  },
  {
   "cell_type": "markdown",
   "id": "c6ffbdc5",
   "metadata": {},
   "source": [
    "The above stripplot shows the fare range for various passenger class ticket for respective embarkments as indicated by the index."
   ]
  },
  {
   "cell_type": "markdown",
   "id": "bef979bc",
   "metadata": {},
   "source": [
    "#### Visual Represntation of the Age Rang of Passengers Based On their Ticket class."
   ]
  },
  {
   "cell_type": "code",
   "execution_count": 23,
   "id": "e3ea7a31",
   "metadata": {},
   "outputs": [
    {
     "data": {
      "text/plain": [
       "<AxesSubplot:xlabel='Pclass', ylabel='Age'>"
      ]
     },
     "execution_count": 23,
     "metadata": {},
     "output_type": "execute_result"
    },
    {
     "data": {
      "image/png": "[encoded data removed]",
      "text/plain": [
       "<Figure size 864x504 with 1 Axes>"
      ]
     },
     "metadata": {},
     "output_type": "display_data"
    }
   ],
   "source": [
    "plt.figure(figsize=(12, 7))\n",
    "sns.boxplot(x='Pclass',y='Age',data=data,palette='winter')"
   ]
  },
  {
   "cell_type": "markdown",
   "id": "a1373ff8",
   "metadata": {},
   "source": [
    "From the above graph , it is evident that the age agroup of passengers with Upper Class ticket that is 1 is between 25 and 50 \n",
    "whereas that with Middle class is 25 to 35 and finally with the lower is roughly 18 to 33. Thus we will now handle the missing datas of the Age column by situating in the datas with mean values based on the above mentioned conditions."
   ]
  },
  {
   "cell_type": "markdown",
   "id": "95afc484",
   "metadata": {},
   "source": [
    "Using this detail for **handling of the missing data** as:"
   ]
  },
  {
   "cell_type": "code",
   "execution_count": 24,
   "id": "2b217efe",
   "metadata": {},
   "outputs": [],
   "source": [
    "def fillAge(cols):\n",
    "    \n",
    "    Age = cols[0]\n",
    "    Pclass = cols[1]\n",
    "    \n",
    "    if pd.isnull(Age):\n",
    "\n",
    "        if Pclass == 1:\n",
    "            return 38\n",
    "\n",
    "        elif Pclass == 2:\n",
    "            return 30\n",
    "\n",
    "        else:\n",
    "            return 24\n",
    "\n",
    "    else:\n",
    "        return Age"
   ]
  },
  {
   "cell_type": "markdown",
   "id": "551e5337",
   "metadata": {},
   "source": [
    "#### Imputing the missing age values with the above logic"
   ]
  },
  {
   "cell_type": "code",
   "execution_count": 25,
   "id": "9061f8b5",
   "metadata": {},
   "outputs": [],
   "source": [
    "data['Age'] =data[['Age','Pclass']].apply(fillAge,axis=1)"
   ]
  },
  {
   "cell_type": "markdown",
   "id": "afcdb372",
   "metadata": {},
   "source": [
    "#### Checking the Missing Values In Age Column"
   ]
  },
  {
   "cell_type": "code",
   "execution_count": 26,
   "id": "eea58946",
   "metadata": {},
   "outputs": [
    {
     "data": {
      "text/plain": [
       "0"
      ]
     },
     "execution_count": 26,
     "metadata": {},
     "output_type": "execute_result"
    }
   ],
   "source": [
    "data['Age'].isnull().sum()"
   ]
  },
  {
   "cell_type": "markdown",
   "id": "322862f5",
   "metadata": {},
   "source": [
    "#### Visual Verification of Missing Data "
   ]
  },
  {
   "cell_type": "code",
   "execution_count": 27,
   "id": "30f2f431",
   "metadata": {},
   "outputs": [
    {
     "data": {
      "text/plain": [
       "<AxesSubplot:>"
      ]
     },
     "execution_count": 27,
     "metadata": {},
     "output_type": "execute_result"
    },
    {
     "data": {
      "image/png": "[encoded data removed]",
      "text/plain": [
       "<Figure size 432x288 with 2 Axes>"
      ]
     },
     "metadata": {},
     "output_type": "display_data"
    }
   ],
   "source": [
    "sns.heatmap(data.isnull(), yticklabels = False)"
   ]
  },
  {
   "cell_type": "markdown",
   "id": "613acc7f",
   "metadata": {},
   "source": [
    "We still can spot some white pigments on the above heatmap under the embarked columns. This means we still got some work to do.\n"
   ]
  },
  {
   "cell_type": "markdown",
   "id": "8fdc5a4b",
   "metadata": {},
   "source": [
    "#### Checking the Missing Values In Age Column"
   ]
  },
  {
   "cell_type": "code",
   "execution_count": 28,
   "id": "105204e4",
   "metadata": {},
   "outputs": [
    {
     "data": {
      "text/plain": [
       "2"
      ]
     },
     "execution_count": 28,
     "metadata": {},
     "output_type": "execute_result"
    }
   ],
   "source": [
    "data['Embarked'].isnull().sum()"
   ]
  },
  {
   "cell_type": "markdown",
   "id": "ee19af1d",
   "metadata": {},
   "source": [
    "#### Computing the mode value of \"Embarked\" column"
   ]
  },
  {
   "cell_type": "code",
   "execution_count": 29,
   "id": "5442234f",
   "metadata": {},
   "outputs": [
    {
     "name": "stdout",
     "output_type": "stream",
     "text": [
      "0    S\n",
      "dtype: object\n"
     ]
    }
   ],
   "source": [
    "print(data['Embarked'].mode())"
   ]
  },
  {
   "cell_type": "markdown",
   "id": "64709069",
   "metadata": {},
   "source": [
    "#### Handling the missing values in \"Embarked\" column with the mode value"
   ]
  },
  {
   "cell_type": "code",
   "execution_count": 30,
   "id": "0cbb1b56",
   "metadata": {},
   "outputs": [],
   "source": [
    "data['Embarked'].fillna(data['Embarked'].mode()[0], inplace=True)"
   ]
  },
  {
   "cell_type": "code",
   "execution_count": 31,
   "id": "ea1ae152",
   "metadata": {},
   "outputs": [
    {
     "data": {
      "text/plain": [
       "PassengerId    0\n",
       "Survived       0\n",
       "Pclass         0\n",
       "Name           0\n",
       "Sex            0\n",
       "Age            0\n",
       "SibSp          0\n",
       "Parch          0\n",
       "Ticket         0\n",
       "Fare           0\n",
       "Embarked       0\n",
       "dtype: int64"
      ]
     },
     "execution_count": 31,
     "metadata": {},
     "output_type": "execute_result"
    }
   ],
   "source": [
    "data.isnull().sum()"
   ]
  },
  {
   "cell_type": "code",
   "execution_count": 32,
   "id": "443f8aba",
   "metadata": {},
   "outputs": [
    {
     "data": {
      "text/plain": [
       "<AxesSubplot:>"
      ]
     },
     "execution_count": 32,
     "metadata": {},
     "output_type": "execute_result"
    },
    {
     "data": {
      "image/png": "[encoded data removed]",
      "text/plain": [
       "<Figure size 432x288 with 2 Axes>"
      ]
     },
     "metadata": {},
     "output_type": "display_data"
    }
   ],
   "source": [
    "sns.heatmap(data.isnull(), yticklabels = False)"
   ]
  },
  {
   "cell_type": "markdown",
   "id": "477c1c95",
   "metadata": {},
   "source": [
    "All the missing data has been sucessfully handled."
   ]
  },
  {
   "cell_type": "markdown",
   "id": "ff8d8f5a",
   "metadata": {},
   "source": [
    "```\n",
    " \n",
    " There we go. We did it, HOORAAAAYY !!!!!\n",
    " \n",
    "```"
   ]
  },
  {
   "cell_type": "markdown",
   "id": "2067b315",
   "metadata": {},
   "source": [
    "### Statistical Visualization of the data"
   ]
  },
  {
   "cell_type": "code",
   "execution_count": 33,
   "id": "b64002e9",
   "metadata": {},
   "outputs": [
    {
     "data": {
      "text/html": [
       "<div>\n",
       "<style scoped>\n",
       "    .dataframe tbody tr th:only-of-type {\n",
       "        vertical-align: middle;\n",
       "    }\n",
       "\n",
       "    .dataframe tbody tr th {\n",
       "        vertical-align: top;\n",
       "    }\n",
       "\n",
       "    .dataframe thead th {\n",
       "        text-align: right;\n",
       "    }\n",
       "</style>\n",
       "<table border=\"1\" class=\"dataframe\">\n",
       "  <thead>\n",
       "    <tr style=\"text-align: right;\">\n",
       "      <th></th>\n",
       "      <th>PassengerId</th>\n",
       "      <th>Survived</th>\n",
       "      <th>Pclass</th>\n",
       "      <th>Age</th>\n",
       "      <th>SibSp</th>\n",
       "      <th>Parch</th>\n",
       "      <th>Fare</th>\n",
       "    </tr>\n",
       "  </thead>\n",
       "  <tbody>\n",
       "    <tr>\n",
       "      <th>count</th>\n",
       "      <td>891.000000</td>\n",
       "      <td>891.000000</td>\n",
       "      <td>891.000000</td>\n",
       "      <td>891.000000</td>\n",
       "      <td>891.000000</td>\n",
       "      <td>891.000000</td>\n",
       "      <td>891.000000</td>\n",
       "    </tr>\n",
       "    <tr>\n",
       "      <th>mean</th>\n",
       "      <td>446.000000</td>\n",
       "      <td>0.383838</td>\n",
       "      <td>2.308642</td>\n",
       "      <td>29.112424</td>\n",
       "      <td>0.523008</td>\n",
       "      <td>0.381594</td>\n",
       "      <td>32.204208</td>\n",
       "    </tr>\n",
       "    <tr>\n",
       "      <th>std</th>\n",
       "      <td>257.353842</td>\n",
       "      <td>0.486592</td>\n",
       "      <td>0.836071</td>\n",
       "      <td>13.266302</td>\n",
       "      <td>1.102743</td>\n",
       "      <td>0.806057</td>\n",
       "      <td>49.693429</td>\n",
       "    </tr>\n",
       "    <tr>\n",
       "      <th>min</th>\n",
       "      <td>1.000000</td>\n",
       "      <td>0.000000</td>\n",
       "      <td>1.000000</td>\n",
       "      <td>0.420000</td>\n",
       "      <td>0.000000</td>\n",
       "      <td>0.000000</td>\n",
       "      <td>0.000000</td>\n",
       "    </tr>\n",
       "    <tr>\n",
       "      <th>25%</th>\n",
       "      <td>223.500000</td>\n",
       "      <td>0.000000</td>\n",
       "      <td>2.000000</td>\n",
       "      <td>22.000000</td>\n",
       "      <td>0.000000</td>\n",
       "      <td>0.000000</td>\n",
       "      <td>7.910400</td>\n",
       "    </tr>\n",
       "    <tr>\n",
       "      <th>50%</th>\n",
       "      <td>446.000000</td>\n",
       "      <td>0.000000</td>\n",
       "      <td>3.000000</td>\n",
       "      <td>26.000000</td>\n",
       "      <td>0.000000</td>\n",
       "      <td>0.000000</td>\n",
       "      <td>14.454200</td>\n",
       "    </tr>\n",
       "    <tr>\n",
       "      <th>75%</th>\n",
       "      <td>668.500000</td>\n",
       "      <td>1.000000</td>\n",
       "      <td>3.000000</td>\n",
       "      <td>37.000000</td>\n",
       "      <td>1.000000</td>\n",
       "      <td>0.000000</td>\n",
       "      <td>31.000000</td>\n",
       "    </tr>\n",
       "    <tr>\n",
       "      <th>max</th>\n",
       "      <td>891.000000</td>\n",
       "      <td>1.000000</td>\n",
       "      <td>3.000000</td>\n",
       "      <td>80.000000</td>\n",
       "      <td>8.000000</td>\n",
       "      <td>6.000000</td>\n",
       "      <td>512.329200</td>\n",
       "    </tr>\n",
       "  </tbody>\n",
       "</table>\n",
       "</div>"
      ],
      "text/plain": [
       "       PassengerId    Survived      Pclass         Age       SibSp  \\\n",
       "count   891.000000  891.000000  891.000000  891.000000  891.000000   \n",
       "mean    446.000000    0.383838    2.308642   29.112424    0.523008   \n",
       "std     257.353842    0.486592    0.836071   13.266302    1.102743   \n",
       "min       1.000000    0.000000    1.000000    0.420000    0.000000   \n",
       "25%     223.500000    0.000000    2.000000   22.000000    0.000000   \n",
       "50%     446.000000    0.000000    3.000000   26.000000    0.000000   \n",
       "75%     668.500000    1.000000    3.000000   37.000000    1.000000   \n",
       "max     891.000000    1.000000    3.000000   80.000000    8.000000   \n",
       "\n",
       "            Parch        Fare  \n",
       "count  891.000000  891.000000  \n",
       "mean     0.381594   32.204208  \n",
       "std      0.806057   49.693429  \n",
       "min      0.000000    0.000000  \n",
       "25%      0.000000    7.910400  \n",
       "50%      0.000000   14.454200  \n",
       "75%      0.000000   31.000000  \n",
       "max      6.000000  512.329200  "
      ]
     },
     "execution_count": 33,
     "metadata": {},
     "output_type": "execute_result"
    }
   ],
   "source": [
    "data.describe()"
   ]
  },
  {
   "cell_type": "code",
   "execution_count": 34,
   "id": "fa98c3fa",
   "metadata": {},
   "outputs": [
    {
     "name": "stdout",
     "output_type": "stream",
     "text": [
      "<class 'pandas.core.frame.DataFrame'>\n",
      "RangeIndex: 891 entries, 0 to 890\n",
      "Data columns (total 11 columns):\n",
      " #   Column       Non-Null Count  Dtype  \n",
      "---  ------       --------------  -----  \n",
      " 0   PassengerId  891 non-null    int64  \n",
      " 1   Survived     891 non-null    int64  \n",
      " 2   Pclass       891 non-null    int64  \n",
      " 3   Name         891 non-null    object \n",
      " 4   Sex          891 non-null    object \n",
      " 5   Age          891 non-null    float64\n",
      " 6   SibSp        891 non-null    int64  \n",
      " 7   Parch        891 non-null    int64  \n",
      " 8   Ticket       891 non-null    object \n",
      " 9   Fare         891 non-null    float64\n",
      " 10  Embarked     891 non-null    object \n",
      "dtypes: float64(2), int64(5), object(4)\n",
      "memory usage: 76.7+ KB\n"
     ]
    }
   ],
   "source": [
    "data.info()"
   ]
  },
  {
   "cell_type": "markdown",
   "id": "1871ac98",
   "metadata": {},
   "source": [
    "The categories name, sex and ticket seems to be of object type. \n",
    ">**The goal is to pre-process the dataset and bring down the necessary features into numerical format.**"
   ]
  },
  {
   "cell_type": "markdown",
   "id": "68ee01c1",
   "metadata": {},
   "source": [
    "#### Transforming the Sex , Embarked Columns to categorical Columns"
   ]
  },
  {
   "cell_type": "code",
   "execution_count": 35,
   "id": "88657f0a",
   "metadata": {},
   "outputs": [],
   "source": [
    "data.replace({'Sex':{'male':0,'female':1}, 'Embarked':{'S':0,'C':1,'Q':2}}, inplace=True)"
   ]
  },
  {
   "cell_type": "markdown",
   "id": "c653c602",
   "metadata": {},
   "source": [
    "As both the features consisted of inputs of certain categories the categories were assigned numerical keys and replaced accordingly. This method is also famous as **Label Encoding** ."
   ]
  },
  {
   "cell_type": "markdown",
   "id": "9a3e1688",
   "metadata": {},
   "source": [
    "#### Lets Look How Far We Have Come"
   ]
  },
  {
   "cell_type": "code",
   "execution_count": 36,
   "id": "de001424",
   "metadata": {},
   "outputs": [
    {
     "data": {
      "text/html": [
       "<div>\n",
       "<style scoped>\n",
       "    .dataframe tbody tr th:only-of-type {\n",
       "        vertical-align: middle;\n",
       "    }\n",
       "\n",
       "    .dataframe tbody tr th {\n",
       "        vertical-align: top;\n",
       "    }\n",
       "\n",
       "    .dataframe thead th {\n",
       "        text-align: right;\n",
       "    }\n",
       "</style>\n",
       "<table border=\"1\" class=\"dataframe\">\n",
       "  <thead>\n",
       "    <tr style=\"text-align: right;\">\n",
       "      <th></th>\n",
       "      <th>PassengerId</th>\n",
       "      <th>Survived</th>\n",
       "      <th>Pclass</th>\n",
       "      <th>Name</th>\n",
       "      <th>Sex</th>\n",
       "      <th>Age</th>\n",
       "      <th>SibSp</th>\n",
       "      <th>Parch</th>\n",
       "      <th>Ticket</th>\n",
       "      <th>Fare</th>\n",
       "      <th>Embarked</th>\n",
       "    </tr>\n",
       "  </thead>\n",
       "  <tbody>\n",
       "    <tr>\n",
       "      <th>0</th>\n",
       "      <td>1</td>\n",
       "      <td>0</td>\n",
       "      <td>3</td>\n",
       "      <td>Braund, Mr. Owen Harris</td>\n",
       "      <td>0</td>\n",
       "      <td>22.0</td>\n",
       "      <td>1</td>\n",
       "      <td>0</td>\n",
       "      <td>A/5 21171</td>\n",
       "      <td>7.2500</td>\n",
       "      <td>0</td>\n",
       "    </tr>\n",
       "    <tr>\n",
       "      <th>1</th>\n",
       "      <td>2</td>\n",
       "      <td>1</td>\n",
       "      <td>1</td>\n",
       "      <td>Cumings, Mrs. John Bradley (Florence Briggs Th...</td>\n",
       "      <td>1</td>\n",
       "      <td>38.0</td>\n",
       "      <td>1</td>\n",
       "      <td>0</td>\n",
       "      <td>PC 17599</td>\n",
       "      <td>71.2833</td>\n",
       "      <td>1</td>\n",
       "    </tr>\n",
       "    <tr>\n",
       "      <th>2</th>\n",
       "      <td>3</td>\n",
       "      <td>1</td>\n",
       "      <td>3</td>\n",
       "      <td>Heikkinen, Miss. Laina</td>\n",
       "      <td>1</td>\n",
       "      <td>26.0</td>\n",
       "      <td>0</td>\n",
       "      <td>0</td>\n",
       "      <td>STON/O2. 3101282</td>\n",
       "      <td>7.9250</td>\n",
       "      <td>0</td>\n",
       "    </tr>\n",
       "    <tr>\n",
       "      <th>3</th>\n",
       "      <td>4</td>\n",
       "      <td>1</td>\n",
       "      <td>1</td>\n",
       "      <td>Futrelle, Mrs. Jacques Heath (Lily May Peel)</td>\n",
       "      <td>1</td>\n",
       "      <td>35.0</td>\n",
       "      <td>1</td>\n",
       "      <td>0</td>\n",
       "      <td>113803</td>\n",
       "      <td>53.1000</td>\n",
       "      <td>0</td>\n",
       "    </tr>\n",
       "    <tr>\n",
       "      <th>4</th>\n",
       "      <td>5</td>\n",
       "      <td>0</td>\n",
       "      <td>3</td>\n",
       "      <td>Allen, Mr. William Henry</td>\n",
       "      <td>0</td>\n",
       "      <td>35.0</td>\n",
       "      <td>0</td>\n",
       "      <td>0</td>\n",
       "      <td>373450</td>\n",
       "      <td>8.0500</td>\n",
       "      <td>0</td>\n",
       "    </tr>\n",
       "    <tr>\n",
       "      <th>5</th>\n",
       "      <td>6</td>\n",
       "      <td>0</td>\n",
       "      <td>3</td>\n",
       "      <td>Moran, Mr. James</td>\n",
       "      <td>0</td>\n",
       "      <td>24.0</td>\n",
       "      <td>0</td>\n",
       "      <td>0</td>\n",
       "      <td>330877</td>\n",
       "      <td>8.4583</td>\n",
       "      <td>2</td>\n",
       "    </tr>\n",
       "    <tr>\n",
       "      <th>6</th>\n",
       "      <td>7</td>\n",
       "      <td>0</td>\n",
       "      <td>1</td>\n",
       "      <td>McCarthy, Mr. Timothy J</td>\n",
       "      <td>0</td>\n",
       "      <td>54.0</td>\n",
       "      <td>0</td>\n",
       "      <td>0</td>\n",
       "      <td>17463</td>\n",
       "      <td>51.8625</td>\n",
       "      <td>0</td>\n",
       "    </tr>\n",
       "    <tr>\n",
       "      <th>7</th>\n",
       "      <td>8</td>\n",
       "      <td>0</td>\n",
       "      <td>3</td>\n",
       "      <td>Palsson, Master. Gosta Leonard</td>\n",
       "      <td>0</td>\n",
       "      <td>2.0</td>\n",
       "      <td>3</td>\n",
       "      <td>1</td>\n",
       "      <td>349909</td>\n",
       "      <td>21.0750</td>\n",
       "      <td>0</td>\n",
       "    </tr>\n",
       "    <tr>\n",
       "      <th>8</th>\n",
       "      <td>9</td>\n",
       "      <td>1</td>\n",
       "      <td>3</td>\n",
       "      <td>Johnson, Mrs. Oscar W (Elisabeth Vilhelmina Berg)</td>\n",
       "      <td>1</td>\n",
       "      <td>27.0</td>\n",
       "      <td>0</td>\n",
       "      <td>2</td>\n",
       "      <td>347742</td>\n",
       "      <td>11.1333</td>\n",
       "      <td>0</td>\n",
       "    </tr>\n",
       "    <tr>\n",
       "      <th>9</th>\n",
       "      <td>10</td>\n",
       "      <td>1</td>\n",
       "      <td>2</td>\n",
       "      <td>Nasser, Mrs. Nicholas (Adele Achem)</td>\n",
       "      <td>1</td>\n",
       "      <td>14.0</td>\n",
       "      <td>1</td>\n",
       "      <td>0</td>\n",
       "      <td>237736</td>\n",
       "      <td>30.0708</td>\n",
       "      <td>1</td>\n",
       "    </tr>\n",
       "  </tbody>\n",
       "</table>\n",
       "</div>"
      ],
      "text/plain": [
       "   PassengerId  Survived  Pclass  \\\n",
       "0            1         0       3   \n",
       "1            2         1       1   \n",
       "2            3         1       3   \n",
       "3            4         1       1   \n",
       "4            5         0       3   \n",
       "5            6         0       3   \n",
       "6            7         0       1   \n",
       "7            8         0       3   \n",
       "8            9         1       3   \n",
       "9           10         1       2   \n",
       "\n",
       "                                                Name  Sex   Age  SibSp  Parch  \\\n",
       "0                            Braund, Mr. Owen Harris    0  22.0      1      0   \n",
       "1  Cumings, Mrs. John Bradley (Florence Briggs Th...    1  38.0      1      0   \n",
       "2                             Heikkinen, Miss. Laina    1  26.0      0      0   \n",
       "3       Futrelle, Mrs. Jacques Heath (Lily May Peel)    1  35.0      1      0   \n",
       "4                           Allen, Mr. William Henry    0  35.0      0      0   \n",
       "5                                   Moran, Mr. James    0  24.0      0      0   \n",
       "6                            McCarthy, Mr. Timothy J    0  54.0      0      0   \n",
       "7                     Palsson, Master. Gosta Leonard    0   2.0      3      1   \n",
       "8  Johnson, Mrs. Oscar W (Elisabeth Vilhelmina Berg)    1  27.0      0      2   \n",
       "9                Nasser, Mrs. Nicholas (Adele Achem)    1  14.0      1      0   \n",
       "\n",
       "             Ticket     Fare  Embarked  \n",
       "0         A/5 21171   7.2500         0  \n",
       "1          PC 17599  71.2833         1  \n",
       "2  STON/O2. 3101282   7.9250         0  \n",
       "3            113803  53.1000         0  \n",
       "4            373450   8.0500         0  \n",
       "5            330877   8.4583         2  \n",
       "6             17463  51.8625         0  \n",
       "7            349909  21.0750         0  \n",
       "8            347742  11.1333         0  \n",
       "9            237736  30.0708         1  "
      ]
     },
     "execution_count": 36,
     "metadata": {},
     "output_type": "execute_result"
    }
   ],
   "source": [
    "data.head(10)"
   ]
  },
  {
   "cell_type": "markdown",
   "id": "17f12295",
   "metadata": {},
   "source": [
    "Okay, so we still got some work to be done here by handling the non-numeric columns. "
   ]
  },
  {
   "cell_type": "markdown",
   "id": "5c435967",
   "metadata": {},
   "source": [
    "#### Dropping the Inefficient Columns"
   ]
  },
  {
   "cell_type": "code",
   "execution_count": 37,
   "id": "d319530a",
   "metadata": {},
   "outputs": [],
   "source": [
    "titanicData = data.drop(columns = ['PassengerId','Name','Ticket'],axis=1)"
   ]
  },
  {
   "cell_type": "code",
   "execution_count": 38,
   "id": "a4f091d4",
   "metadata": {},
   "outputs": [
    {
     "name": "stdout",
     "output_type": "stream",
     "text": [
      "<class 'pandas.core.frame.DataFrame'>\n",
      "RangeIndex: 891 entries, 0 to 890\n",
      "Data columns (total 8 columns):\n",
      " #   Column    Non-Null Count  Dtype  \n",
      "---  ------    --------------  -----  \n",
      " 0   Survived  891 non-null    int64  \n",
      " 1   Pclass    891 non-null    int64  \n",
      " 2   Sex       891 non-null    int64  \n",
      " 3   Age       891 non-null    float64\n",
      " 4   SibSp     891 non-null    int64  \n",
      " 5   Parch     891 non-null    int64  \n",
      " 6   Fare      891 non-null    float64\n",
      " 7   Embarked  891 non-null    int64  \n",
      "dtypes: float64(2), int64(6)\n",
      "memory usage: 55.8 KB\n"
     ]
    }
   ],
   "source": [
    "titanicData.info()"
   ]
  },
  {
   "cell_type": "markdown",
   "id": "9f668304",
   "metadata": {},
   "source": [
    "#### Rearranging the Columns"
   ]
  },
  {
   "cell_type": "code",
   "execution_count": 39,
   "id": "d548dd12",
   "metadata": {},
   "outputs": [],
   "source": [
    "colsOrder = ['Age','Sex','Pclass','Fare','SibSp','Parch', 'Embarked', 'Survived']\n",
    "FinalTitanicDataset = titanicData[colsOrder]"
   ]
  },
  {
   "cell_type": "markdown",
   "id": "bb6ca937",
   "metadata": {},
   "source": [
    "### A Final Look Into Our Pre-processed Dataset"
   ]
  },
  {
   "cell_type": "code",
   "execution_count": 40,
   "id": "fff3e2d4",
   "metadata": {},
   "outputs": [
    {
     "data": {
      "text/html": [
       "<div>\n",
       "<style scoped>\n",
       "    .dataframe tbody tr th:only-of-type {\n",
       "        vertical-align: middle;\n",
       "    }\n",
       "\n",
       "    .dataframe tbody tr th {\n",
       "        vertical-align: top;\n",
       "    }\n",
       "\n",
       "    .dataframe thead th {\n",
       "        text-align: right;\n",
       "    }\n",
       "</style>\n",
       "<table border=\"1\" class=\"dataframe\">\n",
       "  <thead>\n",
       "    <tr style=\"text-align: right;\">\n",
       "      <th></th>\n",
       "      <th>Age</th>\n",
       "      <th>Sex</th>\n",
       "      <th>Pclass</th>\n",
       "      <th>Fare</th>\n",
       "      <th>SibSp</th>\n",
       "      <th>Parch</th>\n",
       "      <th>Embarked</th>\n",
       "      <th>Survived</th>\n",
       "    </tr>\n",
       "  </thead>\n",
       "  <tbody>\n",
       "    <tr>\n",
       "      <th>0</th>\n",
       "      <td>17.0</td>\n",
       "      <td>1</td>\n",
       "      <td>1</td>\n",
       "      <td>108.9000</td>\n",
       "      <td>1</td>\n",
       "      <td>0</td>\n",
       "      <td>1</td>\n",
       "      <td>1</td>\n",
       "    </tr>\n",
       "    <tr>\n",
       "      <th>1</th>\n",
       "      <td>34.0</td>\n",
       "      <td>0</td>\n",
       "      <td>2</td>\n",
       "      <td>21.0000</td>\n",
       "      <td>1</td>\n",
       "      <td>0</td>\n",
       "      <td>0</td>\n",
       "      <td>0</td>\n",
       "    </tr>\n",
       "    <tr>\n",
       "      <th>2</th>\n",
       "      <td>24.0</td>\n",
       "      <td>0</td>\n",
       "      <td>3</td>\n",
       "      <td>7.8958</td>\n",
       "      <td>0</td>\n",
       "      <td>0</td>\n",
       "      <td>0</td>\n",
       "      <td>0</td>\n",
       "    </tr>\n",
       "    <tr>\n",
       "      <th>3</th>\n",
       "      <td>24.0</td>\n",
       "      <td>0</td>\n",
       "      <td>3</td>\n",
       "      <td>69.5500</td>\n",
       "      <td>8</td>\n",
       "      <td>2</td>\n",
       "      <td>0</td>\n",
       "      <td>0</td>\n",
       "    </tr>\n",
       "    <tr>\n",
       "      <th>4</th>\n",
       "      <td>24.0</td>\n",
       "      <td>0</td>\n",
       "      <td>1</td>\n",
       "      <td>247.5208</td>\n",
       "      <td>0</td>\n",
       "      <td>1</td>\n",
       "      <td>1</td>\n",
       "      <td>0</td>\n",
       "    </tr>\n",
       "    <tr>\n",
       "      <th>5</th>\n",
       "      <td>24.0</td>\n",
       "      <td>0</td>\n",
       "      <td>3</td>\n",
       "      <td>69.5500</td>\n",
       "      <td>8</td>\n",
       "      <td>2</td>\n",
       "      <td>0</td>\n",
       "      <td>0</td>\n",
       "    </tr>\n",
       "    <tr>\n",
       "      <th>6</th>\n",
       "      <td>24.0</td>\n",
       "      <td>0</td>\n",
       "      <td>3</td>\n",
       "      <td>7.7500</td>\n",
       "      <td>0</td>\n",
       "      <td>0</td>\n",
       "      <td>2</td>\n",
       "      <td>0</td>\n",
       "    </tr>\n",
       "    <tr>\n",
       "      <th>7</th>\n",
       "      <td>29.0</td>\n",
       "      <td>0</td>\n",
       "      <td>3</td>\n",
       "      <td>9.5000</td>\n",
       "      <td>0</td>\n",
       "      <td>0</td>\n",
       "      <td>0</td>\n",
       "      <td>1</td>\n",
       "    </tr>\n",
       "    <tr>\n",
       "      <th>8</th>\n",
       "      <td>24.0</td>\n",
       "      <td>0</td>\n",
       "      <td>3</td>\n",
       "      <td>8.6625</td>\n",
       "      <td>0</td>\n",
       "      <td>0</td>\n",
       "      <td>0</td>\n",
       "      <td>0</td>\n",
       "    </tr>\n",
       "    <tr>\n",
       "      <th>9</th>\n",
       "      <td>31.0</td>\n",
       "      <td>1</td>\n",
       "      <td>1</td>\n",
       "      <td>113.2750</td>\n",
       "      <td>1</td>\n",
       "      <td>0</td>\n",
       "      <td>1</td>\n",
       "      <td>1</td>\n",
       "    </tr>\n",
       "  </tbody>\n",
       "</table>\n",
       "</div>"
      ],
      "text/plain": [
       "    Age  Sex  Pclass      Fare  SibSp  Parch  Embarked  Survived\n",
       "0  17.0    1       1  108.9000      1      0         1         1\n",
       "1  34.0    0       2   21.0000      1      0         0         0\n",
       "2  24.0    0       3    7.8958      0      0         0         0\n",
       "3  24.0    0       3   69.5500      8      2         0         0\n",
       "4  24.0    0       1  247.5208      0      1         1         0\n",
       "5  24.0    0       3   69.5500      8      2         0         0\n",
       "6  24.0    0       3    7.7500      0      0         2         0\n",
       "7  29.0    0       3    9.5000      0      0         0         1\n",
       "8  24.0    0       3    8.6625      0      0         0         0\n",
       "9  31.0    1       1  113.2750      1      0         1         1"
      ]
     },
     "execution_count": 40,
     "metadata": {},
     "output_type": "execute_result"
    }
   ],
   "source": [
    "FinalTitanicDataset.sample(n=10 , ignore_index = True)"
   ]
  },
  {
   "cell_type": "markdown",
   "id": "d9c539a1",
   "metadata": {},
   "source": [
    "### Saving The Refined Data Into a new CSV"
   ]
  },
  {
   "cell_type": "code",
   "execution_count": 41,
   "id": "61682aca",
   "metadata": {},
   "outputs": [],
   "source": [
    "FinalTitanicDataset.to_csv('ReadyToTrain.csv')"
   ]
  },
  {
   "cell_type": "markdown",
   "id": "0dafee1c",
   "metadata": {},
   "source": [
    "> That was it. We now have a properly analyzed and pre-processed dataset that can further be used for traning a ML model."
   ]
  }
 ],
 "metadata": {
  "kernelspec": {
   "display_name": "Python 3 (ipykernel)",
   "language": "python",
   "name": "python3"
  },
  "language_info": {
   "codemirror_mode": {
    "name": "ipython",
    "version": 3
   },
   "file_extension": ".py",
   "mimetype": "text/x-python",
   "name": "python",
   "nbconvert_exporter": "python",
   "pygments_lexer": "ipython3",
   "version": "3.9.7"
  }
 },
 "nbformat": 4,
 "nbformat_minor": 5
}
